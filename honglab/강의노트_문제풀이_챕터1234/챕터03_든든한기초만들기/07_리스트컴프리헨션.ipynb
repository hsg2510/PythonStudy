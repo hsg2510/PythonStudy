{
 "cells": [
  {
   "cell_type": "markdown",
   "metadata": {},
   "source": [
    "___\n",
    "<a href='https://cafe.naver.com/jmhonglab'><p style=\"text-align:center;\"><img src='https://lh3.googleusercontent.com/lY3ySXooSmwsq5r-mRi7uiypbo0Vez6pmNoQxMFhl9fmZJkRHu5lO2vo7se_0YOzgmDyJif9fi4_z0o3ZFdwd8NVSWG6Ea80uWaf3pOHpR4GHGDV7kaFeuHR3yAjIJjDgfXMxsvw=w2400'  class=\"center\" width=\"50%\" height=\"50%\"/></p></a>\n",
    "___\n",
    "<center><em>Content Copyright by HongLab, Inc.</em></center>"
   ]
  },
  {
   "cell_type": "markdown",
   "metadata": {},
   "source": [
    "# [리스트 컴프리헨션](https://docs.python.org/ko/3/tutorial/datastructures.html#list-comprehensions)([List Comprehensions](https://docs.python.org/3/tutorial/datastructures.html#list-comprehensions))\n",
    "\n",
    "리스트를 만들 때 아이템들을 하나하나 나열하는 대신 아이템이 될 수 있는 조건을 적어줍니다. 파이썬을 파이썬 답게 사용하기 위해서는 잘 알아두셔야 합니다. \n",
    "\n",
    "기본적인 사용법은 대괄호 사이에 아이템의 조건을 의미하는 표현식을 적어주는 것입니다. for절을 대괄호 안에 축약해서 넣어놓은 듯한 형태입니다.\n",
    "\n",
    "|원소나열|조건제시|\n",
    "|---|---|\n",
    "|```[1, 2, 3, 4]```|```[x 　　for x in range(1, 5)]```|\n",
    "|```[1, 4, 9, 16]```|```[x**2　for x in range(1, 5)]```|\n",
    "|```[101, 102, 103, 104]```|```[x+100 for x in range(1, 5)]```|\n"
   ]
  },
  {
   "cell_type": "markdown",
   "metadata": {},
   "source": [
    "[참고] 여기에 **컴프리헨션([comprehension](https://www.google.com/search?q=meaning+of+comprehension&rlz=1C1RXQR_koUS982US982&oq=meaning+of+comprehension&aqs=chrome..69i57j0i512l9.3447j1j7&sourceid=chrome&ie=UTF-8))** 이란 용어는 수학의 집합론에서 유래되었습니다. 집합을 정의할때 원소들을 하나하나 나열하는 [원소나열법](https://terms.naver.com/entry.naver?docId=3338034&ref=y&cid=47324&categoryId=47324)과 달리 원소가 될 수 있는 조건을 제시한다는 점에서 [조건제시법](https://terms.naver.com/entry.naver?docId=3338049&cid=47324&categoryId=47324)으로 부르기도 합니다. 단어 자체도 이해한다는 의미 외에 포함시킨다는 의미도 함께 갖고 있습니다. 더 자세한 내용은 [list comprehension](https://en.wikipedia.org/wiki/List_comprehension), [Set-builder-notation](https://en.wikipedia.org/wiki/Set-builder_notation), [스택오버플로우 답변](https://stackoverflow.com/questions/1903980/why-list-comprehension-is-called-so-in-python) 등을 참고하세요."
   ]
  },
  {
   "cell_type": "markdown",
   "metadata": {},
   "source": [
    "먼저 리스트를 만들 때 for문을 사용하는 경우부터 보겠습니다."
   ]
  },
  {
   "cell_type": "code",
   "execution_count": 4,
   "metadata": {},
   "outputs": [
    {
     "data": {
      "text/plain": [
       "[1, 4, 9, 16, 25, 36, 49, 64, 81, 100]"
      ]
     },
     "execution_count": 4,
     "metadata": {},
     "output_type": "execute_result"
    }
   ],
   "source": [
    "# 반복문을 사용할 경우\n",
    "my_list = []\n",
    "for x in range(1, 11):\n",
    "    my_list.append(x**2)\n",
    "\n",
    "my_list"
   ]
  },
  {
   "cell_type": "markdown",
   "metadata": {},
   "source": [
    "리스트 컴프리헨션을 사용하면 훨씬 간결하게 적을 수 있습니다."
   ]
  },
  {
   "cell_type": "code",
   "execution_count": 5,
   "metadata": {},
   "outputs": [
    {
     "data": {
      "text/plain": [
       "[1, 4, 9, 16, 25, 36, 49, 64, 81, 100]"
      ]
     },
     "execution_count": 5,
     "metadata": {},
     "output_type": "execute_result"
    }
   ],
   "source": [
    "# 리스트 컴프리헨션을 사용할 경우\n",
    "my_list = [x**2 for x in range(1, 11)]\n",
    "\n",
    "my_list"
   ]
  },
  {
   "cell_type": "markdown",
   "metadata": {},
   "source": [
    "일반적인 for문 사용할때와 마찬가지로 range() 대신에 다양한 이터러블을 사용할 수 있습니다."
   ]
  },
  {
   "cell_type": "code",
   "execution_count": 6,
   "metadata": {},
   "outputs": [
    {
     "data": {
      "text/plain": [
       "[1, 4, 9, 16]"
      ]
     },
     "execution_count": 6,
     "metadata": {},
     "output_type": "execute_result"
    }
   ],
   "source": [
    "my_list = [x**2 for x in [1, 2, 3, 4]]\n",
    "\n",
    "my_list\n"
   ]
  },
  {
   "cell_type": "markdown",
   "metadata": {},
   "source": [
    "이터러블 자리에 리스트 컴프리헨션을 사용할 수도 있습니다."
   ]
  },
  {
   "cell_type": "code",
   "execution_count": 2,
   "metadata": {},
   "outputs": [
    {
     "data": {
      "text/plain": [
       "[0, 1, 16, 81, 256, 625, 1296, 2401, 4096, 6561, 10000]"
      ]
     },
     "execution_count": 2,
     "metadata": {},
     "output_type": "execute_result"
    }
   ],
   "source": [
    "list = [x ** 2 for x in [x ** 2 for x in range(11)]]\n",
    "list"
   ]
  },
  {
   "cell_type": "markdown",
   "metadata": {},
   "source": [
    "이것을 for루프로 적으면 훨씬 복잡합니다."
   ]
  },
  {
   "cell_type": "code",
   "execution_count": 3,
   "metadata": {},
   "outputs": [
    {
     "data": {
      "text/plain": [
       "[0, 1, 16, 81, 256, 625, 1296, 2401, 4096, 6561, 10000]"
      ]
     },
     "execution_count": 3,
     "metadata": {},
     "output_type": "execute_result"
    }
   ],
   "source": [
    "inner_list = []\n",
    "for x in range(11):\n",
    "    inner_list.append(x**2)\n",
    "\n",
    "outer_list = []\n",
    "for x in inner_list:\n",
    "    outer_list.append(x**2)\n",
    "\n",
    "outer_list\n"
   ]
  },
  {
   "cell_type": "markdown",
   "metadata": {},
   "source": [
    "조건문과 함께 사용할 수도 있습니다."
   ]
  },
  {
   "cell_type": "code",
   "execution_count": 7,
   "metadata": {},
   "outputs": [
    {
     "data": {
      "text/plain": [
       "[0, 2, 4, 6, 8, 10]"
      ]
     },
     "execution_count": 7,
     "metadata": {},
     "output_type": "execute_result"
    }
   ],
   "source": [
    "even_numbers = [x for x in range(11) if x % 2 == 0]\n",
    "\n",
    "even_numbers"
   ]
  },
  {
   "cell_type": "markdown",
   "metadata": {},
   "source": [
    "두 리스트의 조합도 2중 for문을 사용하는 것보다 훨씬 편하게 만들 수 있습니다."
   ]
  },
  {
   "cell_type": "code",
   "execution_count": 8,
   "metadata": {},
   "outputs": [
    {
     "data": {
      "text/plain": [
       "[(1, 'A'), (1, 'B'), (2, 'A'), (2, 'B')]"
      ]
     },
     "execution_count": 8,
     "metadata": {},
     "output_type": "execute_result"
    }
   ],
   "source": [
    "combinations = []\n",
    "for x in [1, 2]:\n",
    "    for y in [\"A\", \"B\"]:\n",
    "        combinations.append((x, y))\n",
    "\n",
    "combinations"
   ]
  },
  {
   "cell_type": "code",
   "execution_count": 9,
   "metadata": {},
   "outputs": [
    {
     "data": {
      "text/plain": [
       "[(1, 'A'), (1, 'B'), (2, 'A'), (2, 'B')]"
      ]
     },
     "execution_count": 9,
     "metadata": {},
     "output_type": "execute_result"
    }
   ],
   "source": [
    "[(x, y) for x in [1, 2] for y in [\"A\", \"B\"]]"
   ]
  },
  {
   "cell_type": "code",
   "execution_count": 10,
   "metadata": {},
   "outputs": [
    {
     "data": {
      "text/plain": [
       "[(1, 'A'), (2, 'A'), (1, 'B'), (2, 'B')]"
      ]
     },
     "execution_count": 10,
     "metadata": {},
     "output_type": "execute_result"
    }
   ],
   "source": [
    "[(x, y) for y in [\"A\", \"B\"] for x in [1, 2] ]"
   ]
  },
  {
   "cell_type": "markdown",
   "metadata": {},
   "source": [
    "조건을 걸어줄 수도 있습니다. 아래는 1이상 6이하의 정수 두 개를 더해서 6이 되는 모든 조합을 찾아줍니다."
   ]
  },
  {
   "cell_type": "code",
   "execution_count": 11,
   "metadata": {},
   "outputs": [
    {
     "data": {
      "text/plain": [
       "[(1, 5), (2, 4), (3, 3), (4, 2), (5, 1)]"
      ]
     },
     "execution_count": 11,
     "metadata": {},
     "output_type": "execute_result"
    }
   ],
   "source": [
    "[(x, y) for x in range(1,7) for y in range(1,7) if x + y == 6]"
   ]
  },
  {
   "cell_type": "markdown",
   "metadata": {},
   "source": [
    "조건을 중간에 넣을 수도 있습니다."
   ]
  },
  {
   "cell_type": "code",
   "execution_count": 12,
   "metadata": {},
   "outputs": [
    {
     "data": {
      "text/plain": [
       "[(4, 2), (5, 1)]"
      ]
     },
     "execution_count": 12,
     "metadata": {},
     "output_type": "execute_result"
    }
   ],
   "source": [
    "[(x, y) for x in range(1,7) if x > 3 for y in range(1,7) if x + y == 6]"
   ]
  },
  {
   "cell_type": "code",
   "execution_count": 13,
   "metadata": {},
   "outputs": [
    {
     "data": {
      "text/plain": [
       "[(4, 2), (5, 1)]"
      ]
     },
     "execution_count": 13,
     "metadata": {},
     "output_type": "execute_result"
    }
   ],
   "source": [
    "my_list = []\n",
    "for x in range(1,7):\n",
    "    if x > 3: # 여기에 y를 사용한다면 오류 발생\n",
    "        for y in range(1,7) :\n",
    "            if x + y == 6:\n",
    "                my_list.append((x,y))\n",
    "my_list"
   ]
  },
  {
   "cell_type": "code",
   "execution_count": 14,
   "metadata": {},
   "outputs": [
    {
     "ename": "UnboundLocalError",
     "evalue": "local variable 'y' referenced before assignment",
     "output_type": "error",
     "traceback": [
      "\u001b[0;31m---------------------------------------------------------------------------\u001b[0m",
      "\u001b[0;31mUnboundLocalError\u001b[0m                         Traceback (most recent call last)",
      "Cell \u001b[0;32mIn[14], line 1\u001b[0m\n\u001b[0;32m----> 1\u001b[0m [(x, y) \u001b[38;5;28;01mfor\u001b[39;00m x \u001b[38;5;129;01min\u001b[39;00m \u001b[38;5;28mrange\u001b[39m(\u001b[38;5;241m1\u001b[39m,\u001b[38;5;241m7\u001b[39m) \u001b[38;5;28;01mif\u001b[39;00m y \u001b[38;5;241m>\u001b[39m \u001b[38;5;241m3\u001b[39m \u001b[38;5;28;01mfor\u001b[39;00m y \u001b[38;5;129;01min\u001b[39;00m \u001b[38;5;28mrange\u001b[39m(\u001b[38;5;241m1\u001b[39m,\u001b[38;5;241m7\u001b[39m) \u001b[38;5;28;01mif\u001b[39;00m x \u001b[38;5;241m+\u001b[39m y \u001b[38;5;241m==\u001b[39m \u001b[38;5;241m6\u001b[39m]\n",
      "Cell \u001b[0;32mIn[14], line 1\u001b[0m, in \u001b[0;36m<listcomp>\u001b[0;34m(.0)\u001b[0m\n\u001b[0;32m----> 1\u001b[0m [(x, y) \u001b[38;5;28;01mfor\u001b[39;00m x \u001b[38;5;129;01min\u001b[39;00m \u001b[38;5;28mrange\u001b[39m(\u001b[38;5;241m1\u001b[39m,\u001b[38;5;241m7\u001b[39m) \u001b[38;5;28;01mif\u001b[39;00m \u001b[43my\u001b[49m \u001b[38;5;241m>\u001b[39m \u001b[38;5;241m3\u001b[39m \u001b[38;5;28;01mfor\u001b[39;00m y \u001b[38;5;129;01min\u001b[39;00m \u001b[38;5;28mrange\u001b[39m(\u001b[38;5;241m1\u001b[39m,\u001b[38;5;241m7\u001b[39m) \u001b[38;5;28;01mif\u001b[39;00m x \u001b[38;5;241m+\u001b[39m y \u001b[38;5;241m==\u001b[39m \u001b[38;5;241m6\u001b[39m]\n",
      "\u001b[0;31mUnboundLocalError\u001b[0m: local variable 'y' referenced before assignment"
     ]
    }
   ],
   "source": [
    "[(x, y) for x in range(1,7) if y > 3 for y in range(1,7) if x + y == 6]"
   ]
  },
  {
   "cell_type": "markdown",
   "metadata": {},
   "source": [
    "주의 사항으로는 튜플을 만들 때는 괄호가 꼭 필요합니다."
   ]
  },
  {
   "cell_type": "code",
   "execution_count": 15,
   "metadata": {},
   "outputs": [
    {
     "data": {
      "text/plain": [
       "[(0, 0), (1, 1), (2, 4), (3, 9), (4, 16), (5, 25)]"
      ]
     },
     "execution_count": 15,
     "metadata": {},
     "output_type": "execute_result"
    }
   ],
   "source": [
    "[(x, x**2) for x in range(6)] # OK"
   ]
  },
  {
   "cell_type": "code",
   "execution_count": 16,
   "metadata": {},
   "outputs": [
    {
     "ename": "SyntaxError",
     "evalue": "did you forget parentheses around the comprehension target? (1142329895.py, line 1)",
     "output_type": "error",
     "traceback": [
      "\u001b[0;36m  Cell \u001b[0;32mIn[16], line 1\u001b[0;36m\u001b[0m\n\u001b[0;31m    [x, x**2 for x in range(6)] # Error\u001b[0m\n\u001b[0m     ^\u001b[0m\n\u001b[0;31mSyntaxError\u001b[0m\u001b[0;31m:\u001b[0m did you forget parentheses around the comprehension target?\n"
     ]
    }
   ],
   "source": [
    "[x, x**2 for x in range(6)] # Error"
   ]
  },
  {
   "cell_type": "markdown",
   "metadata": {},
   "source": [
    "함수나 메써드와 함께 사용할 수도 있습니다."
   ]
  },
  {
   "cell_type": "code",
   "execution_count": 17,
   "metadata": {},
   "outputs": [
    {
     "data": {
      "text/plain": [
       "[4, 2]"
      ]
     },
     "execution_count": 17,
     "metadata": {},
     "output_type": "execute_result"
    }
   ],
   "source": [
    "vec = [-4, -2, 0, 2, 4]\n",
    "\n",
    "[abs(x) for x in vec if x < 0.0]"
   ]
  },
  {
   "cell_type": "code",
   "execution_count": 18,
   "metadata": {},
   "outputs": [
    {
     "data": {
      "text/plain": [
       "['BANANA', 'LOGANBERRY', 'PASSION FRUIT']"
      ]
     },
     "execution_count": 18,
     "metadata": {},
     "output_type": "execute_result"
    }
   ],
   "source": [
    "my_fruits = ['  banana', '  loganberry ', 'passion fruit  ']\n",
    "\n",
    "[fruit.strip().upper() for fruit in my_fruits]"
   ]
  },
  {
   "cell_type": "markdown",
   "metadata": {},
   "source": [
    "2중으로 중첩된 리스트를 중첩이 없는 리스트로 바꾸는 데에 사용할 수도 있습니다."
   ]
  },
  {
   "cell_type": "code",
   "execution_count": 19,
   "metadata": {},
   "outputs": [
    {
     "data": {
      "text/plain": [
       "[1, 2, 3, 4, 5, 6, 7, 8, 9]"
      ]
     },
     "execution_count": 19,
     "metadata": {},
     "output_type": "execute_result"
    }
   ],
   "source": [
    "nested_list = [[1,2,3], [4,5,6], [7,8,9]]\n",
    "\n",
    "[num for sub_list in nested_list for num in sub_list]"
   ]
  },
  {
   "cell_type": "code",
   "execution_count": 20,
   "metadata": {},
   "outputs": [
    {
     "data": {
      "text/plain": [
       "[1, 2, 3, 4, 5, 6, 7, 8, 9]"
      ]
     },
     "execution_count": 20,
     "metadata": {},
     "output_type": "execute_result"
    }
   ],
   "source": [
    "my_list = []\n",
    "for sub_list in nested_list:\n",
    "    for num in sub_list:\n",
    "        my_list.append(num)\n",
    "my_list\n"
   ]
  },
  {
   "cell_type": "markdown",
   "metadata": {},
   "source": [
    "조건나열법으로 집합을 만들 수도 있습니다."
   ]
  },
  {
   "cell_type": "code",
   "execution_count": 21,
   "metadata": {},
   "outputs": [
    {
     "data": {
      "text/plain": [
       "{1, 4, 9}"
      ]
     },
     "execution_count": 21,
     "metadata": {},
     "output_type": "execute_result"
    }
   ],
   "source": [
    "# Set comprehension\n",
    "{v * v for v in [1, 2, 3]}"
   ]
  },
  {
   "cell_type": "markdown",
   "metadata": {},
   "source": [
    "사전도 만들 수 있어요."
   ]
  },
  {
   "cell_type": "code",
   "execution_count": 22,
   "metadata": {},
   "outputs": [
    {
     "data": {
      "text/plain": [
       "{0: 'A', 3: 'D'}"
      ]
     },
     "execution_count": 22,
     "metadata": {},
     "output_type": "execute_result"
    }
   ],
   "source": [
    "# Dict comprehension\n",
    "{key:val for key, val in enumerate('ABCD') if val not in 'CB'}"
   ]
  },
  {
   "cell_type": "markdown",
   "metadata": {},
   "source": [
    "튜플을 만들 때는 자료형을 적어줘야 합니다.\n",
    "* Dictionary, Set, list는 {}, []을 쓰니 따로 자료형을 명시 안해도 명확한데, tuple은 ()을 사용하니 자료형을 쓰지 않으면 명확하지 않아서 tuple을 명시해 줘야함."
   ]
  },
  {
   "cell_type": "code",
   "execution_count": 23,
   "metadata": {},
   "outputs": [
    {
     "data": {
      "text/plain": [
       "(1, 4, 9)"
      ]
     },
     "execution_count": 23,
     "metadata": {},
     "output_type": "execute_result"
    }
   ],
   "source": [
    "tuple(v * v for v in [1, 2, 3])"
   ]
  },
  {
   "cell_type": "code",
   "execution_count": 28,
   "metadata": {},
   "outputs": [
    {
     "data": {
      "text/plain": [
       "<generator object <genexpr> at 0x1077251c0>"
      ]
     },
     "execution_count": 28,
     "metadata": {},
     "output_type": "execute_result"
    }
   ],
   "source": [
    "not_tuple = (v * v for v in [1, 2, 3])\n",
    "not_tuple"
   ]
  },
  {
   "cell_type": "markdown",
   "metadata": {},
   "source": [
    "[참고] 아이템의 조건을 적어놓은 표현식의 자료형은 뭘까요?"
   ]
  },
  {
   "cell_type": "code",
   "execution_count": 29,
   "metadata": {},
   "outputs": [
    {
     "data": {
      "text/plain": [
       "generator"
      ]
     },
     "execution_count": 29,
     "metadata": {},
     "output_type": "execute_result"
    }
   ],
   "source": [
    "type(x**2 for x in [1, 2, 3])"
   ]
  },
  {
   "cell_type": "markdown",
   "metadata": {},
   "source": [
    "### 연습문제"
   ]
  },
  {
   "cell_type": "markdown",
   "metadata": {},
   "source": [
    "##### [문제]  주어진 섭씨 온도(Celsius)의 리스트를 화씨(Fahrenheit) 온도의 리스트로 변경\n",
    "\n",
    "$화씨온도 = 섭씨온도 \\times {9}/{5} + 32$\n",
    "\n",
    "예상 결과  \n",
    "```[32.0, 50.0, 77.0, 86.9]```"
   ]
  },
  {
   "cell_type": "code",
   "execution_count": null,
   "metadata": {},
   "outputs": [],
   "source": [
    "celsius = [0, 10, 25, 30.5]\n"
   ]
  },
  {
   "cell_type": "markdown",
   "metadata": {},
   "source": [
    "##### [문제] 1 부터 10까지의 정수 중에서 짝수의 제곱만 리스트로 만드세요\n",
    "\n",
    "예상 결과  \n",
    "```[4, 16, 36, 64, 100]```"
   ]
  },
  {
   "cell_type": "code",
   "execution_count": null,
   "metadata": {},
   "outputs": [],
   "source": []
  },
  {
   "cell_type": "markdown",
   "metadata": {},
   "source": [
    "##### [문제] 주어진 문자열의 리스트에서 소문자 a가 들어 있는 단어들만 모두 대문자로 바꿔서 리스트를 만드세요.\n",
    "\n",
    "예상 결과  \n",
    "```['BANANA', 'CRASH', 'MATHEMATICS']```"
   ]
  },
  {
   "cell_type": "code",
   "execution_count": null,
   "metadata": {},
   "outputs": [],
   "source": [
    "my_list = ['hello', 'Apple', 'banana', 'Cherry', 'crash', 'mathematics']\n",
    "\n"
   ]
  },
  {
   "cell_type": "markdown",
   "metadata": {},
   "source": [
    "##### [문제] 전치 행렬\n",
    "\n",
    "주어진 중첩 리스트를\n",
    "```[[1, 5, 9], [2, 6, 10], [3, 7, 11], [4, 8, 12]]```\n",
    "로 바꿔보세요."
   ]
  },
  {
   "cell_type": "code",
   "execution_count": null,
   "metadata": {},
   "outputs": [],
   "source": [
    "matrix = [\n",
    "    [1, 2, 3, 4],\n",
    "    [5, 6, 7, 8],\n",
    "    [9, 10, 11, 12],\n",
    "]\n",
    "\n"
   ]
  },
  {
   "cell_type": "markdown",
   "metadata": {},
   "source": [
    "##### [문제] 자리수 합치기\n",
    "\n",
    "주어진 자연수의 모든 자리수의 숫자들을 계속 합쳐서 마지막으로 숫자가 하나만 남을때까지 반복합니다.\n",
    "\n",
    "예를 들어서 입력받은 숫자가 1357 이라면 \n",
    "\n",
    "```\n",
    "1357\n",
    "16\n",
    "7\n",
    "```\n",
    "\n",
    "이 됩니다. 이때 ```1 + 3 + 5 + 7 = 16``` 이고 ```1 + 6 = 7``` 입니다.\n",
    "\n",
    "**힌트**  \n",
    "1. 숫자를 문자열로 바꾼다. : 1356 -> \"1357\"\n",
    "1. 리스트 컴프리헨션을 이용해서 문자열을 정수의 리스트로 바꾼다. : [1, 3, 5, 7]\n",
    "1. 각 원소들을 더하고 다시 문자열로 바꾼다. : \"16\""
   ]
  },
  {
   "cell_type": "code",
   "execution_count": null,
   "metadata": {},
   "outputs": [],
   "source": [
    "num = 1357\n",
    "\n",
    "while len(str(num)) > 1:\n",
    "    print(num)\n",
    "    pass # 여기에 리스트 컴프리헨션 사용\n",
    "else:\n",
    "    print(num)"
   ]
  },
  {
   "cell_type": "markdown",
   "metadata": {},
   "source": [
    "##### [문제] 숫자에 세 자리마다 컴마 넣기\n",
    "\n"
   ]
  },
  {
   "cell_type": "markdown",
   "metadata": {},
   "source": [
    "숫자를 입력 받아서 세자리마다 컴마가 들어간 문자열로 바꿔봅시다.\n",
    "\n",
    "|입력|출력|\n",
    "|---|---|\n",
    "|12|\"12\"|\n",
    "|1234|\"1,234\"|\n",
    "|1234567|\"1,234,567\"|\n",
    "\n",
    "**힌트**  \n",
    "```join()```은 문자열의 리스트를 합칠 때 사이사이에 원하는 문자를 넣어줍니다."
   ]
  },
  {
   "cell_type": "code",
   "execution_count": null,
   "metadata": {},
   "outputs": [],
   "source": [
    "my_list = [\"1\", \"234\", \"567\"]\n",
    "\n",
    "\"|\".join(my_list)"
   ]
  },
  {
   "cell_type": "markdown",
   "metadata": {},
   "source": [
    "**힌트**  \n",
    "만약에 모든 숫자의 자리수가 3의 배수라면 컴마를 삽입하는 것이 간단하겠지만 실제로는 그렇지 않습니다. 여기서는 아래 과정을 거쳐서 해결해보겠습니다.\n",
    "\n",
    "1. 입력받은 숫자를 문자열로 바꾸고 뒤집는다: 12345 -> \"54321\"\n",
    "1. 리스트 컴프리헨션을 이용해서 3자리씩 잘라진 문자열의 리스트로 변경: [\"543\", \"21\"]\n",
    "1. ```join()```을 이용해서 사이에 컴마를 넣고 합친다.: \"543,21\"\n",
    "1. 다시 뒤집는다.: \"12,345\""
   ]
  },
  {
   "cell_type": "code",
   "execution_count": null,
   "metadata": {},
   "outputs": [],
   "source": [
    "input_number = 1234567"
   ]
  }
 ],
 "metadata": {
  "kernelspec": {
   "display_name": "3.10.13",
   "language": "python",
   "name": "python3"
  },
  "language_info": {
   "codemirror_mode": {
    "name": "ipython",
    "version": 3
   },
   "file_extension": ".py",
   "mimetype": "text/x-python",
   "name": "python",
   "nbconvert_exporter": "python",
   "pygments_lexer": "ipython3",
   "version": "3.10.13"
  },
  "orig_nbformat": 4
 },
 "nbformat": 4,
 "nbformat_minor": 2
}
