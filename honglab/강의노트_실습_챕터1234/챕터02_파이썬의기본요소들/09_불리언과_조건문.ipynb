{
 "cells": [
  {
   "cell_type": "markdown",
   "metadata": {},
   "source": [
    "# 불리언(Boolean) 자료형\n",
    "\n",
    "불리언 자료형의 객체는 ```True```와 ```False``` 두 가지 값 만을 가질 수 있습니다. 문자열이 아니기 때문에 리터럴에 따옴표를 사용하지 않습니다. 주로 조건문 if과 함께 흐름 제어를 할 때 사용됩니다."
   ]
  },
  {
   "cell_type": "markdown",
   "metadata": {},
   "source": [
    "### 불리언 연산자 ```and```\n",
    "\n",
    "> 예시) ```(1 > 2) and (3 > 4)```"
   ]
  },
  {
   "cell_type": "markdown",
   "metadata": {},
   "source": [
    "### 불리언 연산자 ```or```\n"
   ]
  },
  {
   "cell_type": "code",
   "execution_count": null,
   "metadata": {},
   "outputs": [],
   "source": [
    "# 실습 예시\n",
    "1 < 2 or 3 < 4"
   ]
  },
  {
   "cell_type": "markdown",
   "metadata": {},
   "source": [
    "### 불리언 연산자 ```not```"
   ]
  },
  {
   "cell_type": "code",
   "execution_count": null,
   "metadata": {},
   "outputs": [],
   "source": [
    "# 실습 예시\n",
    "not 1 > 2"
   ]
  },
  {
   "cell_type": "markdown",
   "metadata": {},
   "source": [
    "### 연쇄 비교 (Chained Comparison) 연산자\n",
    "\n",
    "```and```를 사용한 표현식을 더 간결하게 줄일 수 있습니다."
   ]
  },
  {
   "cell_type": "code",
   "execution_count": 1,
   "metadata": {},
   "outputs": [
    {
     "data": {
      "text/plain": [
       "False"
      ]
     },
     "execution_count": 1,
     "metadata": {},
     "output_type": "execute_result"
    }
   ],
   "source": [
    "# 예시) a가 1보다 크고 3보다 작은가?\n",
    "a = 3\n",
    "1 < a and a < 3\n",
    "1 < a < 3 # and를 사용한 것보다 간결 "
   ]
  },
  {
   "cell_type": "code",
   "execution_count": 2,
   "metadata": {},
   "outputs": [
    {
     "data": {
      "text/plain": [
       "False"
      ]
     },
     "execution_count": 2,
     "metadata": {},
     "output_type": "execute_result"
    }
   ],
   "source": [
    "a, b, c = 1, 2, 3\n",
    "# 예시) 임의의 a, b, c에 대해서 a가 b보다도 크고 c보다도 큰가?\n",
    "b < a and a > c\n",
    "b < a > c # and를 사용한 것보다 간결"
   ]
  },
  {
   "cell_type": "markdown",
   "metadata": {},
   "source": [
    "### 식별 연산자 (Identity Operator)\n",
    "\n",
    "```is```는 둘이 같은 객체인지를 비교합니다. 내부적으로는```id()```를 비교해서 ```id()```가 같으면 같은 객체입니다.  \n",
    "값이 같은지를 비교하는 ```==```와는 다르니 주의하세요."
   ]
  },
  {
   "cell_type": "code",
   "execution_count": 4,
   "metadata": {},
   "outputs": [
    {
     "name": "stdout",
     "output_type": "stream",
     "text": [
      "a is b: True\n",
      "a is c: False\n",
      "a == c: True\n"
     ]
    }
   ],
   "source": [
    "a = 123\n",
    "b = a\n",
    "c = 123.0\n",
    "\n",
    "# 같은 객체인지 확인\n",
    "print(\"a is b:\", a is b)\n",
    "\n",
    "# 다른 객체이지만 값이 같을 수는 있습니다.'\n",
    "print(\"a is c:\", a is c)\n",
    "print(\"a == c:\", a == c)"
   ]
  },
  {
   "cell_type": "markdown",
   "metadata": {},
   "source": [
    "### 불리언과 다른 자료형과의 관계"
   ]
  },
  {
   "cell_type": "markdown",
   "metadata": {},
   "source": [
    "불리언은 내부적으로 int의 일종으로 분류됩니다."
   ]
  },
  {
   "cell_type": "code",
   "execution_count": 7,
   "metadata": {},
   "outputs": [
    {
     "name": "stdout",
     "output_type": "stream",
     "text": [
      "True True\n",
      "True True\n"
     ]
    }
   ],
   "source": [
    "# isinstance는 type이 맞는지를 확인할 때 사용합니다.\n",
    "print(isinstance(True, bool), isinstance(False, bool))\n",
    "# bool은 내부적으로는 int의 일종이다.\n",
    "print(isinstance(True, int), isinstance(False, int))"
   ]
  },
  {
   "cell_type": "markdown",
   "metadata": {},
   "source": [
    "```0```이 아닌 숫자들은 ```True```로 변환됩니다."
   ]
  },
  {
   "cell_type": "code",
   "execution_count": 8,
   "metadata": {},
   "outputs": [
    {
     "data": {
      "text/plain": [
       "(True, True, False, False)"
      ]
     },
     "execution_count": 8,
     "metadata": {},
     "output_type": "execute_result"
    }
   ],
   "source": [
    "bool(1), bool(2), bool(0), bool(0.0)"
   ]
  },
  {
   "cell_type": "markdown",
   "metadata": {},
   "source": [
    "비어있지 않은 컨테이너들은 ```True```로 변환됩니다."
   ]
  },
  {
   "cell_type": "code",
   "execution_count": 9,
   "metadata": {},
   "outputs": [
    {
     "data": {
      "text/plain": [
       "(True, False, True, False, True, False)"
      ]
     },
     "execution_count": 9,
     "metadata": {},
     "output_type": "execute_result"
    }
   ],
   "source": [
    "# str\n",
    "bool(\"Hello\"), bool(\"\"), bool([1, 2]), bool([]), bool({\"a\": 1}), bool({})"
   ]
  },
  {
   "cell_type": "markdown",
   "metadata": {},
   "source": [
    "```None```은 ```False```로 변환됩니다. "
   ]
  },
  {
   "cell_type": "code",
   "execution_count": 10,
   "metadata": {},
   "outputs": [
    {
     "data": {
      "text/plain": [
       "False"
      ]
     },
     "execution_count": 10,
     "metadata": {},
     "output_type": "execute_result"
    }
   ],
   "source": [
    "bool(None)"
   ]
  },
  {
   "cell_type": "markdown",
   "metadata": {},
   "source": [
    "# 조건문 ```if```"
   ]
  },
  {
   "cell_type": "markdown",
   "metadata": {},
   "source": [
    "### ```if```문의 기본적인 사용법\n",
    "```if```와 콜론 사이에 ```True```나 ```False```로 계산될 수 있는 표현식을 적어줍니다."
   ]
  },
  {
   "cell_type": "markdown",
   "metadata": {},
   "source": [
    "[예시] 정수를 입력받아서 1이면 \"숫자 1입니다.\", 2이면 \"숫자 2입니다.\", 그 외에는 \"모르는 숫자입니다.\"를 출력해보세요."
   ]
  },
  {
   "cell_type": "code",
   "execution_count": 16,
   "metadata": {},
   "outputs": [
    {
     "name": "stdout",
     "output_type": "stream",
     "text": [
      "숫자 1 입니다.\n"
     ]
    }
   ],
   "source": [
    "num = int(input())\n",
    "\n",
    "if (num == 1):\n",
    "    print(\"숫자 1 입니다.\")\n",
    "elif (num == 2):\n",
    "    print(\"숫자 2 입니다.\")\n",
    "else:\n",
    "    print(\"모르는 숫자 입니다.\")"
   ]
  },
  {
   "cell_type": "markdown",
   "metadata": {},
   "source": [
    "# 구조적인 패턴 매칭 (match-case문)\n",
    "\n",
    "파이썬 3.10+에서 새로 추가된 문법입니다. 여기서는 기본적인 사용법만 살펴보겠습니다.  \n",
    "3.10버전 이상의 파이썬이 필요합니다."
   ]
  },
  {
   "cell_type": "markdown",
   "metadata": {},
   "source": [
    "[보충] 가상환경은 터미널에서 ```conda create -n py310 python=3.10```으로 만드실 수 있습니다. 이때 ```py310```대신 원하는 이름을 사용하셔도 됩니다. VSCode를 껐다 켠 다음에 주피터 노트북 우측 상단의 Python 3.X를 클릭하시면 새로 만든 환경으로 바꾸실 수 있습니다. 영상으로 된 설명은 챕터1에 있습니다.\n"
   ]
  },
  {
   "cell_type": "code",
   "execution_count": 2,
   "metadata": {},
   "outputs": [
    {
     "name": "stdout",
     "output_type": "stream",
     "text": [
      "기차는 길어\n"
     ]
    },
    {
     "ename": "",
     "evalue": "",
     "output_type": "error",
     "traceback": [
      "\u001b[1;31mThe Kernel crashed while executing code in the the current cell or a previous cell. Please review the code in the cell(s) to identify a possible cause of the failure. Click <a href='https://aka.ms/vscodeJupyterKernelCrash'>here</a> for more info. View Jupyter <a href='command:jupyter.viewOutput'>log</a> for further details."
     ]
    }
   ],
   "source": [
    "match input():\n",
    "    case \"기차\":\n",
    "        print(\"기차는 길어\")\n",
    "    case \"바나나\":\n",
    "        print(\"바나나는 맛있어\")\n",
    "    case _:\n",
    "        print(\"알 수 없습니다.\")"
   ]
  },
  {
   "cell_type": "markdown",
   "metadata": {},
   "source": [
    "사전(dict)을 이용한 풀이"
   ]
  },
  {
   "cell_type": "code",
   "execution_count": 19,
   "metadata": {},
   "outputs": [
    {
     "name": "stdout",
     "output_type": "stream",
     "text": [
      "알 수 없습니다.\n"
     ]
    }
   ],
   "source": [
    "my_dict = {\"기차\": \"기차는 길어\", \"바나나\": \"바나나는 맛있어\"}\n",
    "\n",
    "# get() 메써드의 기본값이 else: 역할을 합니다.\n",
    "word = input()\n",
    "print(my_dict.get(word, \"알 수 없습니다.\"))"
   ]
  }
 ],
 "metadata": {
  "interpreter": {
   "hash": "f64e548cbf2ebb58caacc39a919b16809fbf0a70979c18e5ddba76aa9934d80e"
  },
  "kernelspec": {
   "display_name": "Python 3.9.5 64-bit ('base': conda)",
   "language": "python",
   "name": "python3"
  },
  "language_info": {
   "codemirror_mode": {
    "name": "ipython",
    "version": 3
   },
   "file_extension": ".py",
   "mimetype": "text/x-python",
   "name": "python",
   "nbconvert_exporter": "python",
   "pygments_lexer": "ipython3",
   "version": "3.10.13"
  },
  "orig_nbformat": 4
 },
 "nbformat": 4,
 "nbformat_minor": 2
}
