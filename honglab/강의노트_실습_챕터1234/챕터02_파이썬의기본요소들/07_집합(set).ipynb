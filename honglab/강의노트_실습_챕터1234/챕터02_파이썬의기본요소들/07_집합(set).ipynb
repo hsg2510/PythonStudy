{
 "cells": [
  {
   "cell_type": "markdown",
   "metadata": {},
   "source": [
    "# [집합(set)](https://docs.python.org/ko/3/tutorial/datastructures.html#sets)\n",
    "\n",
    "|이름|type|예시|가변성|순서유지|중복허용|\n",
    "|---|---|---|---|---|---|\n",
    "|리스트|list|```[\"사과\", 123, 3.14]```|가변|O|O|\n",
    "|튜플|tuple|```(\"사과\", 123, 3.14)```|불변|O|O|\n",
    "|집합|set|```{\"사과\", 123, 3.14}```|가변|X|X|\n",
    "|사전|dict|```{\"원주율\":3.14, 123:\"일이삼\"}```|가변|3.6+|키X값O|\n"
   ]
  },
  {
   "cell_type": "markdown",
   "metadata": {},
   "source": [
    "집합(set)은 시퀀스 자료형들과 많이 다릅니다. 예를 들어서 리스트 같은 경우는 아이템을 넣은 순서를 그대로 유지해주고 같은 아이템을 여러개 넣을 수도 있습니다. 그러나 집합(set)은 순서를 유지해주지도 않고 같은 아이템을 여러개 넣을 수도 없습니다."
   ]
  },
  {
   "cell_type": "markdown",
   "metadata": {},
   "source": [
    "### 집합(set)을 만드는 방법\n",
    "중괄호(물결괄호```{}```)와 컴마(```.```)를 이용해서 집합을 만들 수 있습니다. 그러나 비어있는 물결괄호는 집합이 아니라 사전(dict)을 만드니 주의하세요.\n"
   ]
  },
  {
   "cell_type": "code",
   "execution_count": null,
   "metadata": {},
   "outputs": [],
   "source": [
    "#s = {} # 빈 셋을 만들려고 시도하면 dict가 만들어짐\n",
    "s = set() # 빈 셋"
   ]
  },
  {
   "cell_type": "markdown",
   "metadata": {},
   "source": [
    "리스트나 튜플과 달리 아이템의 순서를 유지해주지 **않습니다**. 중복된 아이템들은 제거되고 하나만 남습니다. 인덱싱이나 슬라이싱을 사용할 수 없습니다."
   ]
  },
  {
   "cell_type": "code",
   "execution_count": 2,
   "metadata": {},
   "outputs": [
    {
     "name": "stdout",
     "output_type": "stream",
     "text": [
      "{1, 2, 3, 100, 55}\n",
      "{'pear', 'orange', 'apple', 'banana'}\n"
     ]
    }
   ],
   "source": [
    "s = {100, 55, 1, 1, 1, 1, 2, 3}\n",
    "print(s)\n",
    "fruits = {'apple', 'orange', 'apple', 'pear', 'orange', 'banana'}\n",
    "print(fruits)"
   ]
  },
  {
   "cell_type": "markdown",
   "metadata": {},
   "source": [
    "[보충] 집합은 순서가 없고(unordered) 중복이 없는 컨테이너입니다. 순서가 없다는 얘기는 순서가 달라도 아이템들이 같으면 같은 집합이라는 의미입니다. 예를 들어 ```{1, 2}```와 ```{2, 1}```은 동일한 집합입니다."
   ]
  },
  {
   "cell_type": "code",
   "execution_count": 3,
   "metadata": {},
   "outputs": [],
   "source": [
    "# 리스트를 셋으로 변경\n",
    "l = [1, 1, 2, 2, 3, 4, 5, 6, 1, 1]\n",
    "s = set(l)\n",
    "\n",
    "# 셋을 다시 리스트로 변경 \n",
    "# [주의] 셋으로 바꾸면서 삭제됐던 아이템들이 다시 돌아오지는 않습니다.\n",
    "new_l = list(s)"
   ]
  },
  {
   "cell_type": "markdown",
   "metadata": {},
   "source": [
    "### 집합의 연산들\n"
   ]
  },
  {
   "cell_type": "markdown",
   "metadata": {},
   "source": [
    "기본적인 아이템 추가, 멤버쉽 연산 외에 집합 연산을 사용할 수 있습니다."
   ]
  },
  {
   "cell_type": "code",
   "execution_count": 4,
   "metadata": {},
   "outputs": [
    {
     "name": "stdout",
     "output_type": "stream",
     "text": [
      "{1, 5, 6, 7}\n"
     ]
    }
   ],
   "source": [
    "# 집합은 맨 끝에 원소를 add해 주는등, 순서를 유지해주지 않습니다.\n",
    "s = {5, 6, 7}\n",
    "s.add(1)"
   ]
  },
  {
   "cell_type": "code",
   "execution_count": 5,
   "metadata": {},
   "outputs": [
    {
     "name": "stdout",
     "output_type": "stream",
     "text": [
      "합집합 :  {0, 1, 2, 3, 4, 5, 6, 8}\n",
      "교집합 :  {2, 4}\n",
      "차집합 :  {0, 8, 6}\n",
      "대칭차집합 :  {0, 1, 3, 5, 6, 8}\n"
     ]
    },
    {
     "ename": "",
     "evalue": "",
     "output_type": "error",
     "traceback": [
      "\u001b[1;31mThe Kernel crashed while executing code in the the current cell or a previous cell. Please review the code in the cell(s) to identify a possible cause of the failure. Click <a href='https://aka.ms/vscodeJupyterKernelCrash'>here</a> for more info. View Jupyter <a href='command:jupyter.viewOutput'>log</a> for further details."
     ]
    }
   ],
   "source": [
    "A = {0, 2, 4, 6, 8}\n",
    "B = {1, 2, 3, 4, 5}\n",
    "\n",
    "# 연산자와 메서드 모두 가능\n",
    "print(\"합집합 : \", A | B) # A.union(B)\n",
    "print(\"교집합 : \", A & B) # A.intersection(B)\n",
    "print(\"차집합 : \", A - B) # A.difference(B)\n",
    "print(\"대칭차집합 : \", A ^ B) # A.symmetric_difference(B)"
   ]
  },
  {
   "cell_type": "markdown",
   "metadata": {},
   "source": [
    "코딩테스트를 준비할 계획이 있드시다면 기본 개념은 꼭 이해해놓으시기를 바랍니다."
   ]
  }
 ],
 "metadata": {
  "interpreter": {
   "hash": "d187a48a8a4b28f37103ceb7e85bceb2b63d70db7314890fe18e7e16ec425e3f"
  },
  "kernelspec": {
   "display_name": "Python 3.9.7 64-bit ('base': conda)",
   "language": "python",
   "name": "python3"
  },
  "language_info": {
   "codemirror_mode": {
    "name": "ipython",
    "version": 3
   },
   "file_extension": ".py",
   "mimetype": "text/x-python",
   "name": "python",
   "nbconvert_exporter": "python",
   "pygments_lexer": "ipython3",
   "version": "3.9.5"
  },
  "orig_nbformat": 4
 },
 "nbformat": 4,
 "nbformat_minor": 2
}
