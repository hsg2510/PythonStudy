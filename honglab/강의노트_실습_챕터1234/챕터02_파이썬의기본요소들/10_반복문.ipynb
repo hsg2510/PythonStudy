{
 "cells": [
  {
   "cell_type": "markdown",
   "metadata": {},
   "source": [
    "# 반복문"
   ]
  },
  {
   "cell_type": "markdown",
   "metadata": {},
   "source": [
    "### ```print()``` 출력 옵션 조절\n",
    "\n",
    "```print()``` 함수는 기본적으로 출력 후에 줄바꿈을 덧붙이게 되어 있습니다. ```end=\" \"```를 사용하면 줄바꿈을 빈 칸 하나로 바꿔주기 때문에 한 줄에 여러번 출력을 할 수 있습니다. 당연히 빈칸 대신에 원하는 문자열을 넣을 수도 있습니다. 반복문으로 여러가지를 출력할 때 가독성을 높여줍니다."
   ]
  },
  {
   "cell_type": "code",
   "execution_count": 1,
   "metadata": {},
   "outputs": [
    {
     "name": "stdout",
     "output_type": "stream",
     "text": [
      "줄바꿈이\n",
      "있어요\n",
      "아이템1 아이템2 아이템3\n",
      "줄바꿈이!없어요\n"
     ]
    }
   ],
   "source": [
    "# 기본\n",
    "print(\"줄바꿈이\")  # print(\"줄바꿈이\", end=\"\\n\")\n",
    "print(\"있어요\")  # print(\"있어요\", end=\"\\n\")\n",
    "\n",
    "# end=\" \" 사용\n",
    "print(\"아이템1\", end=\" \")\n",
    "print(\"아이템2\", end=\" \")\n",
    "print(\"아이템3\")\n",
    "\n",
    "# end=\"!\" 사용\n",
    "print(\"줄바꿈이\", end=\"!\")\n",
    "print(\"없어요\")"
   ]
  },
  {
   "cell_type": "markdown",
   "metadata": {},
   "source": [
    "여러 객체를 컴마로 구분해서 출력할 때는 사이에 빈칸이 자동으로 들어갑니다. 빈칸 대신에 ```sep = \"*!?\"```과 같이 원하는 문자열을 넣어줄 수 있습니다. ```sep```는 seperator의 약자입니다."
   ]
  },
  {
   "cell_type": "code",
   "execution_count": 2,
   "metadata": {},
   "outputs": [
    {
     "name": "stdout",
     "output_type": "stream",
     "text": [
      "안녕 123 하세요?\n",
      "안녕123하세요?\n",
      "안녕*!?123*!?하세요?\n"
     ]
    }
   ],
   "source": [
    "print(\"안녕\", 123, \"하세요?\")\n",
    "print(\"안녕\", 123, \"하세요?\", sep=\"\")\n",
    "print(\"안녕\", 123, \"하세요?\", sep=\"*!?\")"
   ]
  },
  {
   "cell_type": "markdown",
   "metadata": {},
   "source": [
    "# [반복문 ```for```](https://docs.python.org/3/reference/compound_stmts.html#the-for-statement)\n",
    "\n"
   ]
  },
  {
   "cell_type": "markdown",
   "metadata": {},
   "source": [
    "### ```for```문의 일반적인 형태\n",
    "\n",
    "```for```문의 간단한 용법들은 앞에서 많이 봤기 때문에 여기서는 일반적인 형태를 먼저 살펴보겠습니다.\n",
    "\n",
    "```\n",
    "for 변수 in 이터러블-객체:\n",
    "    반복할 명령문들\n",
    "else:\n",
    "    반복이 (break없이) 끝나면 실행될 명령문들\n",
    "```\n",
    "\n",
    "여기서 ```in```과 ```:``` 사이에는 반복에 사용할 수 있는(**iterable, 이터러블**) 객체가 들어갈 수 있습니다. 예를 들어서 int나 float같은 숫자 자료형들의 객체는 들어갈 수 없고 list나 tuple같은 컨테이너형의 객체들은 들어갈 수 있습니다. 정수 범위에 대해 반복을 할 때는 범위(range)형의 객체를 만들어서 사용할 수 있습니다. ```변수```에는 이터러블이 제공해주는 아이템들이 차례대로 대입됩니다.\n",
    "\n",
    "교재에 따라서 이 변수를 루프 제어 변수(loop control variable)라고 부르기도 하고 아이템이 대입되는 대상이라는 의미에서 대상(target)이라고 부르기도 합니다."
   ]
  },
  {
   "cell_type": "code",
   "execution_count": 5,
   "metadata": {},
   "outputs": [
    {
     "name": "stdout",
     "output_type": "stream",
     "text": [
      "False\n",
      "True\n"
     ]
    }
   ],
   "source": [
    "# 어떤 객체가 iterable 한지 확인하는 방법\n",
    "from collections.abc import Iterable\n",
    "\n",
    "print(isinstance(1, Iterable))\n",
    "print(isinstance([1, 2, 3], Iterable))"
   ]
  },
  {
   "cell_type": "markdown",
   "metadata": {},
   "source": [
    "매 루프마다 루프 제어 변수에 이터러블(iterable)의 아이템들이 하나씩 대입됩니다. 다른 변수들과 동일한 방법으로 사용할 수 있으며 이름도 변수명 규칙에 따라 마음대로 지을 수 있습니다."
   ]
  },
  {
   "cell_type": "code",
   "execution_count": null,
   "metadata": {},
   "outputs": [],
   "source": [
    "# for 예시\n",
    "for i in [8, 3, 5]:  # i에는 8, 3, 5이 순서대로 대입됩니다.\n",
    "    j = i * 10\n",
    "    print(j)"
   ]
  },
  {
   "cell_type": "markdown",
   "metadata": {},
   "source": [
    "\n",
    "```else```-절은 ```if```문에서도 그랬듯이 필수는 아니며 ```for``` 루프가 정상적으로 실행이 완료되었을 때만 실행됩니다. 만약 ```break``` 명령을 이용해서 ```for```루프가 일찍 종료되었을 때는 실행되지 않습니다. 이 경우는 ```break``` 사용법과 함께 다시 보겠습니다."
   ]
  },
  {
   "cell_type": "code",
   "execution_count": 6,
   "metadata": {},
   "outputs": [
    {
     "name": "stdout",
     "output_type": "stream",
     "text": [
      "80\n",
      "30\n",
      "50\n",
      "끝났어요.\n"
     ]
    }
   ],
   "source": [
    "for i in [8, 3, 5]:\n",
    "    j = i * 10\n",
    "    print(j)\n",
    "else:\n",
    "    print(\"끝났어요.\") #for문에서 break를 통해 임의로 빠져나왔을 때는 else문이 실행되지 않음."
   ]
  },
  {
   "cell_type": "markdown",
   "metadata": {},
   "source": [
    "### 범위(range) 사용법\n",
    "\n",
    "```range()``` 함수를 이용해서 정수 범위(range)를 만들어낼 수 있습니다. 보통 ```for```문과 함께 사용됩니다."
   ]
  },
  {
   "cell_type": "code",
   "execution_count": 7,
   "metadata": {},
   "outputs": [
    {
     "data": {
      "text/plain": [
       "range"
      ]
     },
     "execution_count": 7,
     "metadata": {},
     "output_type": "execute_result"
    }
   ],
   "source": [
    "type(range(5))"
   ]
  },
  {
   "cell_type": "markdown",
   "metadata": {},
   "source": [
    "괄호 안에 3가지의 인수(argument)를 넣어서 범위를 조절할 수 있습니다.\n",
    "\n",
    "```range(시작, 종료, 스텝)```"
   ]
  },
  {
   "cell_type": "code",
   "execution_count": 11,
   "metadata": {},
   "outputs": [
    {
     "name": "stdout",
     "output_type": "stream",
     "text": [
      "0 1 2 3 4 "
     ]
    }
   ],
   "source": [
    "for i in range(5):\n",
    "    print(i, end=\" \")"
   ]
  },
  {
   "cell_type": "code",
   "execution_count": 10,
   "metadata": {},
   "outputs": [
    {
     "name": "stdout",
     "output_type": "stream",
     "text": [
      "1 2 3 4 5 "
     ]
    }
   ],
   "source": [
    "# 괄호 안에 숫자를 두 개 넣으면 시작과 종료입니다. 스텝을 입력하지 않으면 1로 간주합니다.\n",
    "for i in range(1, 6):\n",
    "    print(i, end=\" \")\n"
   ]
  },
  {
   "cell_type": "code",
   "execution_count": 12,
   "metadata": {},
   "outputs": [
    {
     "name": "stdout",
     "output_type": "stream",
     "text": [
      "1 3 5 "
     ]
    }
   ],
   "source": [
    "# 스텝을 이용하여 건너뛸 수 있습니다.\n",
    "for i in range(1, 6, 2):\n",
    "    print(i, end=\" \")"
   ]
  },
  {
   "cell_type": "code",
   "execution_count": 14,
   "metadata": {},
   "outputs": [
    {
     "name": "stdout",
     "output_type": "stream",
     "text": [
      "10 8 6 4 2 "
     ]
    }
   ],
   "source": [
    "# 음수 스텝을 사용할 수도 있습니다.\n",
    "for i in range(10, 1, -2):\n",
    "    print(i, end=\" \")"
   ]
  },
  {
   "cell_type": "markdown",
   "metadata": {},
   "source": [
    "### 컨테이너와 함께 사용하기\n",
    "\n",
    "```for```문은 다양한 컨테이너와 함께 사용하기가 편리합니다. \n"
   ]
  },
  {
   "cell_type": "code",
   "execution_count": 19,
   "metadata": {},
   "outputs": [
    {
     "name": "stdout",
     "output_type": "stream",
     "text": [
      "안\n",
      "녕\n",
      "하\n",
      "세\n",
      "요\n",
      "?\n"
     ]
    }
   ],
   "source": [
    "# 문자열과 함께 사용하기\n",
    "for i in \"안녕하세요?\":\n",
    "    print(i)\n"
   ]
  },
  {
   "cell_type": "markdown",
   "metadata": {},
   "source": [
    "### 반복문으로 리스트의 아이템 바꾸기"
   ]
  },
  {
   "cell_type": "code",
   "execution_count": 21,
   "metadata": {},
   "outputs": [
    {
     "name": "stdout",
     "output_type": "stream",
     "text": [
      "[200, 400, 600]\n"
     ]
    }
   ],
   "source": [
    "# 인덱싱으로 바꿀 수 있습니다.\n",
    "my_list = [100, 200, 300]\n",
    "\n",
    "for i in range(len(my_list)):\n",
    "    my_list[i] *= 2\n",
    "\n",
    "print(my_list)\n"
   ]
  },
  {
   "cell_type": "markdown",
   "metadata": {},
   "source": [
    "### [예제] for문으로 리스트의 합 구하기\n",
    "\n",
    "주어진 정수 리스트의 합을 구해봅시다."
   ]
  },
  {
   "cell_type": "markdown",
   "metadata": {},
   "source": [
    "파이썬은 쉽다던데?"
   ]
  },
  {
   "cell_type": "code",
   "execution_count": 23,
   "metadata": {},
   "outputs": [
    {
     "data": {
      "text/plain": [
       "12"
      ]
     },
     "execution_count": 23,
     "metadata": {},
     "output_type": "execute_result"
    }
   ],
   "source": [
    "my_list = [3, 6, 1, 2]\n",
    "# sum = 0 #[주의] sum을 변수명으로 사용해버리면 sum함수를 사용할 수 없음.\n",
    "sum(my_list)"
   ]
  },
  {
   "cell_type": "markdown",
   "metadata": {},
   "source": [
    "### 열거(Enumerate) 함수 사용법\n",
    "\n",
    "```for```문에서 아이템과 아이템의 인덱스가 함께 필요한 경우에 사용할 수 있습니다."
   ]
  },
  {
   "cell_type": "code",
   "execution_count": 24,
   "metadata": {},
   "outputs": [
    {
     "name": "stdout",
     "output_type": "stream",
     "text": [
      "인덱스 0: 아이템 사과\n",
      "인덱스 1: 아이템 바나나\n",
      "인덱스 2: 아이템 포도\n"
     ]
    }
   ],
   "source": [
    "my_list = [\"사과\", \"바나나\", \"포도\"]\n",
    "\n",
    "# enumerate 사용\n",
    "for index, item in enumerate(my_list):\n",
    "    print(f\"인덱스 {index}: 아이템 {item}\")\n"
   ]
  },
  {
   "cell_type": "markdown",
   "metadata": {},
   "source": [
    "# 반복문 while"
   ]
  },
  {
   "cell_type": "markdown",
   "metadata": {},
   "source": [
    "### ```while```문의 일반적인 형태\n",
    "\n",
    "```while```문의 일반적인 형태를 살펴보겠습니다.\n",
    "\n",
    "```\n",
    "while 조건:\n",
    "    조건이 True일 때 실행될 명령문들\n",
    "else:\n",
    "    반복이 (break없이) 끝났을 때 실행될 명령문들\n",
    "```"
   ]
  },
  {
   "cell_type": "code",
   "execution_count": 27,
   "metadata": {},
   "outputs": [
    {
     "name": "stdout",
     "output_type": "stream",
     "text": [
      "0번째입니다.\n",
      "1번째입니다.\n",
      "2번째입니다.\n",
      "3회 반복을 완료 하였습니다.\n"
     ]
    }
   ],
   "source": [
    "repeat = 3\n",
    "counter = 0  # 카운터를 초기화합니다.\n",
    "\n",
    "while counter < repeat:\n",
    "    print(str(counter) + \"번째입니다.\")\n",
    "    counter += 1\n",
    "else:\n",
    "    print(str(counter) + \"회 반복을 완료 하였습니다.\")"
   ]
  },
  {
   "cell_type": "markdown",
   "metadata": {},
   "source": [
    "# 기타 흐름제어 도구들\n",
    "\n",
    "### ```break```문 사용법\n",
    "\n",
    "반복 루프 안에서 ```break```문을 만나면 즉시 반복을 종료합니다. 반복 루프를 깨고 나오는 것입니다. ```break``` 다음에는 ```:```이 필요 없습니다."
   ]
  },
  {
   "cell_type": "code",
   "execution_count": 28,
   "metadata": {},
   "outputs": [
    {
     "name": "stdout",
     "output_type": "stream",
     "text": [
      "0\n",
      "종료하였습니다.\n"
     ]
    }
   ],
   "source": [
    "\n",
    "for i in range(0, 1000):\n",
    "    print(i)\n",
    "    break\n",
    "\n",
    "print(\"종료하였습니다.\")"
   ]
  },
  {
   "cell_type": "code",
   "execution_count": 29,
   "metadata": {},
   "outputs": [
    {
     "name": "stdout",
     "output_type": "stream",
     "text": [
      "Outer 0\n",
      "Inner: 10\n",
      "Outer 1\n",
      "Inner: 10\n",
      "Outer 2\n",
      "Inner: 10\n"
     ]
    }
   ],
   "source": [
    "for j in range(0, 3):\n",
    "    print(\"Outer\", j)\n",
    "    for i in range(10, 1000):\n",
    "        print(\"Inner:\", i)\n",
    "        break"
   ]
  },
  {
   "cell_type": "markdown",
   "metadata": {},
   "source": [
    "반복 루프가 ```break```로 종료될 경우에는 ```else:```가 무시됩니다. 예를 들어서 리스트 안에서 3을 만나면 종료되는 프로그램을 생각해보겠습니다."
   ]
  },
  {
   "cell_type": "code",
   "execution_count": null,
   "metadata": {},
   "outputs": [],
   "source": [
    "#for, while 둘다 break로 빠져나오면 else가 실행되지 않음.\n",
    "my_list = [0, 5, 2, 8, 3, 9]\n",
    "\n",
    "for i in my_list:\n",
    "    print(i, end=\" \")\n",
    "    if i == 3:\n",
    "        print(\"!3을 찾았습니다!\")\n",
    "        break\n",
    "else:\n",
    "    print(\"3을 찾지 못했습니다.\")\n"
   ]
  },
  {
   "cell_type": "markdown",
   "metadata": {},
   "source": [
    "### ```continue```문 사용법\n",
    "\n",
    "```continue```를 만나면 다시 루프의 시작으로 돌아갑니다. ```for```와 ```while``` 모두 사용할 수 있습니다."
   ]
  },
  {
   "cell_type": "code",
   "execution_count": 31,
   "metadata": {},
   "outputs": [
    {
     "name": "stdout",
     "output_type": "stream",
     "text": [
      "첫 번째 출력\n",
      "첫 번째 출력\n",
      "첫 번째 출력\n"
     ]
    }
   ],
   "source": [
    "for i in range(3):\n",
    "    print(\"첫 번째 출력\")\n",
    "    continue\n",
    "    print(\"두 번째 출력\")"
   ]
  },
  {
   "cell_type": "markdown",
   "metadata": {},
   "source": [
    "### ```pass``` 사용법"
   ]
  },
  {
   "cell_type": "markdown",
   "metadata": {},
   "source": [
    "```pass```는 말 그대로 아무것도 안하고 그냥 지나가는 것입니다. 주로 나중에 뭔가 구현할 계획이 있거나 주석을 달아야할 필요가 있을 때 사용합니다. 반복문이나 조건문 외에도 함수나 클래스 등 어디든 사용가능합니다."
   ]
  },
  {
   "cell_type": "code",
   "execution_count": 32,
   "metadata": {},
   "outputs": [
    {
     "name": "stdout",
     "output_type": "stream",
     "text": [
      "짝수\n",
      "짝수\n",
      "짝수\n"
     ]
    }
   ],
   "source": [
    "for i in range(0, 5):\n",
    "    if i % 2 == 0:\n",
    "        print(\"짝수\")\n",
    "    else:\n",
    "        pass"
   ]
  },
  {
   "cell_type": "markdown",
   "metadata": {},
   "source": [
    "### 바다코끼리 연산자 (Walrus Operator)"
   ]
  },
  {
   "cell_type": "markdown",
   "metadata": {},
   "source": [
    "바다코끼리 연산자는 파이썬 3.8에 새로 추가되었습니다. 변수에 값을 대입함과 동시에 표현식으로도 사용될 수가 있다는 특징을 가지고 있습니다. 그래서 대입 표현식(assignment expression) 연산자라고 부릅니다. ```:=``` 연산자가 [바다코끼리(Walrus)](https://en.wikipedia.org/wiki/Walrus)를 닮았다고 합니다."
   ]
  },
  {
   "cell_type": "code",
   "execution_count": 33,
   "metadata": {},
   "outputs": [],
   "source": [
    "# 대입만 하고 표현식으로 사용할 수가 없습니다.\n",
    "# 즉, 이 문장 자체로는 '값'이 없습니다.\n",
    "word = \"헬로우\""
   ]
  },
  {
   "cell_type": "code",
   "execution_count": 35,
   "metadata": {},
   "outputs": [
    {
     "data": {
      "text/plain": [
       "'Hello'"
      ]
     },
     "execution_count": 35,
     "metadata": {},
     "output_type": "execute_result"
    }
   ],
   "source": [
    "# 대입과 동시에 그 자체를 '값'으로 사용할 수 있습니다.\n",
    "(word := \"Hello\")"
   ]
  },
  {
   "cell_type": "markdown",
   "metadata": {},
   "source": [
    "먼저 바다코끼리 연산자를 사용하지 않는 경우부터 생각해봅시다."
   ]
  },
  {
   "cell_type": "code",
   "execution_count": 36,
   "metadata": {},
   "outputs": [
    {
     "name": "stdout",
     "output_type": "stream",
     "text": [
      "가나\n"
     ]
    }
   ],
   "source": [
    "while True:\n",
    "    word = input()\n",
    "    if word == \"종료\":\n",
    "        break\n",
    "    print(word)"
   ]
  },
  {
   "cell_type": "markdown",
   "metadata": {},
   "source": [
    "이때 바다코끼리 연산자를 사용하면 훨씬 간결하게 만들 수 있습니다. ```for```문의 ```대상```(target)과 비슷하게 입력받은 단어를 변수에 담을 수 있기 때문입니다.\n",
    "이때 ```:=``` 연산자의 우선순위가 낮기 때문에 괄호가 필요합니다."
   ]
  },
  {
   "cell_type": "code",
   "execution_count": 37,
   "metadata": {},
   "outputs": [
    {
     "name": "stdout",
     "output_type": "stream",
     "text": [
      "가나\n"
     ]
    },
    {
     "ename": "",
     "evalue": "",
     "output_type": "error",
     "traceback": [
      "\u001b[1;31mThe Kernel crashed while executing code in the the current cell or a previous cell. Please review the code in the cell(s) to identify a possible cause of the failure. Click <a href='https://aka.ms/vscodeJupyterKernelCrash'>here</a> for more info. View Jupyter <a href='command:jupyter.viewOutput'>log</a> for further details."
     ]
    }
   ],
   "source": [
    "while (word := input()) != \"종료\":\n",
    "    print(word)"
   ]
  }
 ],
 "metadata": {
  "interpreter": {
   "hash": "8018e705143a54fe8977c076a25f32bbbfeba551799f40fa3d5ac4e2da245feb"
  },
  "kernelspec": {
   "display_name": "Python 3 (ipykernel)",
   "language": "python",
   "name": "python3"
  },
  "language_info": {
   "codemirror_mode": {
    "name": "ipython",
    "version": 3
   },
   "file_extension": ".py",
   "mimetype": "text/x-python",
   "name": "python",
   "nbconvert_exporter": "python",
   "pygments_lexer": "ipython3",
   "version": "3.9.5"
  }
 },
 "nbformat": 4,
 "nbformat_minor": 2
}
