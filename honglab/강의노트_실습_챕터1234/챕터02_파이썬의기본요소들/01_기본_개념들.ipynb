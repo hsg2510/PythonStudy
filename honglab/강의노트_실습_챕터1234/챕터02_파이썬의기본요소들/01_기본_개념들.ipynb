{
 "cells": [
  {
   "cell_type": "markdown",
   "metadata": {},
   "source": [
    "# 시작하기 전에\n",
    "\n",
    "### 포매터 사용법 (formatter)\n",
    "\n",
    "포매터를 사용하면 빈칸 띄우기와 같은 사소한 규칙들은 신경쓰지 않아도 되기 때문에 편합니다. 물론, 포매터가 오류를 알아서 수정해주지는 않습니다.  \n",
    "여기서는 [Black](https://black.readthedocs.io/en/stable/) 이라는 포매터를 사용합니다. 다른 포매터를 사용하는 그룹에서 일을 하시게 된다면 거기에 맞춰서 쓰시면 됩니다.  \n",
    "\n",
    "확장자가 .py인 파일들을 사용하는 **스크립트 모드**에서는 pip install black 으로 설치한 후에 \n",
    "1. 터미널에서 ```pip install black```으로 설치\n",
    "1. VSCode의 좌측 하단 관리(톱니모양) -> 설정\n",
    "1. 위의 '설정 검색'에서 python formatting provider 검색 후  black으로 설정 (다른 포매터도 선택 가능)\n",
    "1. 위의 '설정 검색'에서 format on save 검색 후 체크  \n",
    "\n",
    "를 하시면 .py 파일을 저장할 때마다 포매팅을 해줍니다.\n",
    "\n",
    "**[선택]** 2022년 4월 기준으로 **주피터 노트북**에서는 VSCode의 포매팅 옵션이 작동하지 않습니다. \n",
    "1. 터미널 새로 열고 ```pip install black[jupyter]``` 설치  \n",
    "(맥에서는 ```pip install 'black[jupyter]'``` 와 같이 따옴표 필요)\n",
    "2. 터미널에서 ```black 파일명.jpynb```로 포매팅\n",
    "\n",
    "Black을 오래 전에 설치하신 분들은 ```pip install -U black[jupyter]```로 업데이트를 하셔야 문제가 없습니다."
   ]
  },
  {
   "cell_type": "markdown",
   "metadata": {},
   "source": [
    "# 파이썬 문법의 핵심 요소들을 훑어봅시다\n",
    "\n",
    "### 객체(object)와 자료형(data type)\n",
    "\n",
    "파이썬에서는 모든 것이 **객체(object)** 입니다. 메모리에 저장된 모든 데이터를 객체라는 개념을 통해서 처리합니다.  \n",
    "파이썬에서는 다양한 객체들을 사용하는데 어떤 **값(value)** 을 가질 수 있느냐와 **무엇을 할 수 있느냐**로 분류됩니다.\n",
    " \n",
    "\n",
    "객체가 어떤 데이터 값으로 이루어져 있으며 어떤 행위를 할 수 있는 지 정해놓은 것을 **자료형(data type)** 이라고 부릅니다.  \n",
    "파이썬에서는 다양한 자료형들을 기본적으로 제공해줍니다. 필요한 자료형들을 직접 만들어서 사용할 수도 있습니다.\n",
    "\n",
    ">예) 정수형 int, 실수형 float, 문자열 str 등"
   ]
  },
  {
   "cell_type": "code",
   "execution_count": 1,
   "metadata": {},
   "outputs": [
    {
     "data": {
      "text/plain": [
       "str"
      ]
     },
     "execution_count": 1,
     "metadata": {},
     "output_type": "execute_result"
    }
   ],
   "source": [
    "# int\n",
    "type(123)\n",
    "# float\n",
    "type(3.14)\n",
    "# str\n",
    "type(\"1234\")"
   ]
  },
  {
   "cell_type": "markdown",
   "metadata": {},
   "source": [
    "### 객체들의 상호 작용\n",
    "\n",
    "파이썬 프로그래밍은 객체들이 배우로 등장하는 대본(script)을 작성하는 것과 비슷합니다.  \n",
    "언제 어떤 객체들을 만들고 그들이 어떤 일을 하며 어떻게 서로 영향을 주고 받을지에 대해 파이썬 문법에 맞게 적어주는 것입니다.  "
   ]
  },
  {
   "cell_type": "code",
   "execution_count": 2,
   "metadata": {},
   "outputs": [
    {
     "data": {
      "text/plain": [
       "3"
      ]
     },
     "execution_count": 2,
     "metadata": {},
     "output_type": "execute_result"
    }
   ],
   "source": [
    "1 + 2"
   ]
  },
  {
   "cell_type": "markdown",
   "metadata": {},
   "source": [
    "우리가 입력한 숫자 1과 2는 각각 정수 1과 2의 값을 갖는 정수 객체를 만들라는 의미입니다.  \n",
    "더하기(+) 기호는 1과 2로부터 만들어진 두 객체가 가지고 있는 값들을 더해서 3이라는 값을 갖는 객체를 새로 만들어달라는 의미가 됩니다.\n",
    "\n",
    "> 1과 2와 같이 우리가 데이터의 값을 직접 입력해놓은 기호들을 '글자 그대로'라는 의미로 **리터럴(literal)** 이라고 부릅니다.  \n",
    "> 더하기(+), 빼기(-) 등과 같은 **연산(operation\\)** 을 명령하는 기호들을 **연산자(operator)** 라고 부릅니다.\n",
    "\n"
   ]
  },
  {
   "cell_type": "markdown",
   "metadata": {},
   "source": [
    "### 객체의 이름\n",
    "\n",
    "앞의 예제에서 우리는 3의 값을 갖는 정수형 객체가 만들어졌다는 것은 알고 있지만 이후의 행방은 알 수가 없습니다.  \n",
    "객체에 이름을 붙여주면 이름을 이용해서 객체를 계속 사용할 수 있습니다.  \n",
    "파이썬에서는 객체의 이름을 **변수(variable)** 라고 부릅니다.    \n",
    "수학의 변수와 비슷한 점도 있고 차이점도 있습니다."
   ]
  },
  {
   "cell_type": "code",
   "execution_count": 2,
   "metadata": {},
   "outputs": [
    {
     "data": {
      "text/plain": [
       "140494017691952"
      ]
     },
     "execution_count": 2,
     "metadata": {},
     "output_type": "execute_result"
    }
   ],
   "source": [
    "# 객체의 정체성(identity) 확인 \n",
    "# 메모리의 어디에 있는지 간접적으로 알려주는 숫자 출력됨. 정확한 메모리 주소는 운영체제가 앎.\n",
    "# 사용용도는 두 객체가 같은 객체인지 확인할 때, id값(간접 주소값)을 사용한다.\n",
    "a = 1 + 2 \n",
    "id(a) "
   ]
  },
  {
   "cell_type": "code",
   "execution_count": 3,
   "metadata": {},
   "outputs": [
    {
     "name": "stdout",
     "output_type": "stream",
     "text": [
      "3\n",
      "140494017691952\n",
      "4\n",
      "140494017691984\n",
      "140494017691984\n"
     ]
    }
   ],
   "source": [
    "# 여러 객체에 같은 이름을 쓸 수 없기 때문에 a는 a + 1을 통해서 새로 만들어진 객체만을 가리킬 수 있다.\n",
    "print(a)\n",
    "print(id(a)) # 140494017691952\n",
    "\n",
    "a = a + 1\n",
    "\n",
    "print(a) # 4\n",
    "print(id(a)) # 140494017691984 \n",
    "b = 4 \n",
    "print(id(b)) # 140494017691984"
   ]
  },
  {
   "cell_type": "markdown",
   "metadata": {},
   "source": [
    "**[참고]** 다른 프로그래밍 언어를 공부한 적이 있으시다면 오히려 객체를 매번 새로 만드는 상황이 이해가 가지 않으실 수도 있습니다.  \n",
    "예를 들면 C언어에서는 한 번 선언된 변수의 값을 바꿀 때는 메모리에서 해당 위치를 찾아서 값만 바꾸기 때문에 메모리 주소가 바뀐다거나 변수를 새로 만든다거나 하지 않습니다.\n",
    "그러나 파이썬에서 int, float, str 등의 일부 자료형들은 값을 바꾸려면 객체를 새로 만들어야 합니다."
   ]
  },
  {
   "cell_type": "markdown",
   "metadata": {},
   "source": [
    "### 함수(function)의 기본적인 사용법\n",
    "\n",
    "파이썬이 기본으로 제공해주는 입출력 함수를 사용해봅시다."
   ]
  },
  {
   "cell_type": "code",
   "execution_count": 5,
   "metadata": {},
   "outputs": [
    {
     "data": {
      "text/plain": [
       "''"
      ]
     },
     "execution_count": 5,
     "metadata": {},
     "output_type": "execute_result"
    }
   ],
   "source": [
    "# 입출력 함수의 기본적인 사용법\n",
    "input()"
   ]
  },
  {
   "cell_type": "code",
   "execution_count": 6,
   "metadata": {},
   "outputs": [
    {
     "name": "stdout",
     "output_type": "stream",
     "text": [
      "반갑습니다.  님\n"
     ]
    }
   ],
   "source": [
    "# 원하는 문구와 함께 사용\n",
    "name = input(\"이름을 입력해주세요:\")\n",
    "print(\"반갑습니다.\", name, \"님\")"
   ]
  },
  {
   "cell_type": "code",
   "execution_count": 7,
   "metadata": {},
   "outputs": [
    {
     "name": "stdout",
     "output_type": "stream",
     "text": [
      "반갑습니다.  님\n"
     ]
    }
   ],
   "source": [
    "# 함수를 만들어서 사용할 수도 있습니다.\n",
    "def input_and_output():\n",
    "    name = input(\"이름을 입력해주세요:\")\n",
    "    print(\"반갑습니다.\", name, \"님\")\n",
    "\n",
    "input_and_output()"
   ]
  },
  {
   "cell_type": "markdown",
   "metadata": {},
   "source": [
    "### 흐름 제어(flow control)의 기본 개념"
   ]
  },
  {
   "cell_type": "code",
   "execution_count": 5,
   "metadata": {},
   "outputs": [
    {
     "name": "stdout",
     "output_type": "stream",
     "text": [
      "1 초과\n",
      "0\n",
      "1\n",
      "2\n"
     ]
    }
   ],
   "source": [
    "i = 3\n",
    "\n",
    "if i > 1:\n",
    "    print(\"1 초과\")\n",
    "else:\n",
    "    print(\"1 이하\")\n",
    "    \n",
    "for i in range(3): # range(3) -> 0 ~ 2\n",
    "    print(i)"
   ]
  },
  {
   "cell_type": "markdown",
   "metadata": {},
   "source": [
    "### 객체 사용법\n",
    "\n",
    "객체 이름 뒤에 점(.)을 찍어 보세요. 객체의 **속성(attribute)** 과 **메써드(method)** 를 사용할 수 있습니다.  \n",
    "자동 완성 앞에 나타나는 여러가지 아이콘의 의미는 [여기](https://code.visualstudio.com/docs/editor/intellisense#_types-of-completions)를 보세요."
   ]
  },
  {
   "cell_type": "code",
   "execution_count": 9,
   "metadata": {},
   "outputs": [],
   "source": [
    "a = int(1)  # a = 1\n",
    "b = a + 1 \n",
    "b = a.__add__(1) # 위와 똑같은 동작"
   ]
  },
  {
   "cell_type": "markdown",
   "metadata": {},
   "source": [
    "### 사용자 정의 자료형 (user defined data type)\n",
    "\n",
    "class 키워드(keyword)를 이용해서 새로운 자료형을 만들 수 있습니다."
   ]
  },
  {
   "cell_type": "code",
   "execution_count": 10,
   "metadata": {},
   "outputs": [
    {
     "name": "stdout",
     "output_type": "stream",
     "text": [
      "내가 만든 정수형 123\n"
     ]
    }
   ],
   "source": [
    "class MyInt:\n",
    "    def __init__(self, value):\n",
    "        self.value = value  # instance variable\n",
    "\n",
    "    def print(self):  # method\n",
    "        print(\"내가 만든 정수형\", self.value)\n",
    "\n",
    "a = MyInt(123)\n",
    "a.print()"
   ]
  },
  {
   "cell_type": "markdown",
   "metadata": {},
   "source": [
    "### 모듈(Module)\n",
    "\n",
    "import 키워드(keyword)를 이용해서 외부의 모듈을 가져와서 편리하게 사용할 수 있습니다.  \n",
    "여러 모듈을 사용하기 편리하도록 묶어놓은 것을 패키지(package)라고 부릅니다."
   ]
  },
  {
   "cell_type": "code",
   "execution_count": 10,
   "metadata": {},
   "outputs": [
    {
     "name": "stdout",
     "output_type": "stream",
     "text": [
      "<class 'module'>\n"
     ]
    },
    {
     "data": {
      "text/plain": [
       "'/Users/user/Desktop/NotThisWeek/Python/honglab/강의노트_실습_챕터1234/챕터02_파이썬의기본요소들'"
      ]
     },
     "execution_count": 10,
     "metadata": {},
     "output_type": "execute_result"
    }
   ],
   "source": [
    "import os\n",
    "\n",
    "print(type(os)) # module 또한 자료형(type) 이다.\n",
    "os.getcwd()  # os module의 getcwd()라는 메써드(method)를 호출해서 사용"
   ]
  },
  {
   "cell_type": "markdown",
   "metadata": {},
   "source": [
    "### 주요 참고 자료들\n",
    "1. 파이썬 공식 홈페이지의 [The Python Tutorial](https://docs.python.org/3/tutorial/index.html)\n",
    "1. [Introduction to Programming in Python: An Interdisciplinary Approach](https://www.amazon.com/Introduction-Programming-Python-Interdisciplinary-Approach/dp/0134076435/ref=sr_1_3?keywords=introduction+to+programming+by+python+sedgewick&qid=1639381995&sr=8-3)\n",
    "1. [Learning Python](https://www.amazon.com/Learning-Python-5th-Mark-Lutz/dp/1449355730/ref=sr_1_1?keywords=learning+python&qid=1639382062&sr=8-1)"
   ]
  }
 ],
 "metadata": {
  "kernelspec": {
   "display_name": "env_3_10",
   "language": "python",
   "name": "python3"
  },
  "language_info": {
   "codemirror_mode": {
    "name": "ipython",
    "version": 3
   },
   "file_extension": ".py",
   "mimetype": "text/x-python",
   "name": "python",
   "nbconvert_exporter": "python",
   "pygments_lexer": "ipython3",
   "version": "3.10.13"
  }
 },
 "nbformat": 4,
 "nbformat_minor": 2
}
