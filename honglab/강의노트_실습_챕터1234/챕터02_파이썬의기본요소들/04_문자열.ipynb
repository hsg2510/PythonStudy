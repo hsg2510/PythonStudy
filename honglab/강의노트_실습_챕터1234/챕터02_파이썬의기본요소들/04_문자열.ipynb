{
 "cells": [
  {
   "cell_type": "markdown",
   "metadata": {},
   "source": [
    "# [문자열](https://docs.python.org/ko/3/tutorial/introduction.html#strings) 사용법 ([Strings](https://docs.python.org/3/tutorial/introduction.html#strings))\n",
    "\n",
    "문자열(string)은 순서대로 나열되어 있는 문자들을 다루기에 편리한 자료형입니다.  \n",
    "글자를 여러 개 담을 수 있다는 점에서 넓은 의미로 **컨테이너(container)** 자료형 중의 하나로 분류가 됩니다.  \n",
    "컨테이너 자료형들 중에서도 원소(element)들이 순서대로 나열되어 있다는 점에서 **시퀀스(sequence)** 로 다시 분류가 됩니다.  \n",
    "시퀀스로 분류되는 자료형에는 문자열(string) 외에도 리스트(list)와 튜플(tuple)이 더 있습니다.  \n",
    "시퀀스에서는 **인덱싱(indexing)** 과 **슬라이싱(slicing)** 을 사용할 수 있습니다.\n",
    "\n",
    "1. 문자열 리터럴 만들기\n",
    "1. 문자열 출력하기\n",
    "1. 인덱싱(indexing)과 슬라이싱(slicing)\n",
    "1. 문자열의 불변성\n",
    "1. 문자열의 메써드\n",
    "1. 문자열의 포매팅\n",
    "\n",
    "**[참고]** 한국에서는 Method를 '메소드'라고 적는 경우가 많은데 요즘은 원어에 보다 가까운 표기를 원하시는 분들이 많아서 여기서는 '메써드'라고 표기하겠습니다.  \n",
    "[정확한 발음은 여기를 참고하세요.](https://www.google.com/search?q=meaning+of+method&rlz=1C1RXQR_koUS982US982&oq=meaning+of+method&aqs=chrome..69i57j0i512l9.1999j0j7&sourceid=chrome&ie=UTF-8) 스피커 버튼 클릭해서 발음 확인해보세요."
   ]
  },
  {
   "cell_type": "markdown",
   "metadata": {},
   "source": [
    "### 문자열(string) 리터럴 만들기\n",
    "\n",
    "*Black은 문자열에 큰따옴표를 선호하기 때문에 여기서는 포매터를 끄고 진행하겠습니다.*"
   ]
  },
  {
   "cell_type": "markdown",
   "metadata": {},
   "source": [
    "**[참고]** 문자열 리터럴에 큰따옴표(\")만을 사용하는 프로그래밍 언어들이 많습니다. 특히 C, C++, 자바에서는 작은따옴표는 글자 하나에, 큰따옴표는 여러 글자에 사용하기 때문에 아예 용도가 다릅니다. 입력하기에는 작은따옴표가 편하지만 다른 프로그래밍 언어도 공부하실 계획이라면 큰따옴표로 습관들이시는 것을 추천합니다."
   ]
  },
  {
   "cell_type": "code",
   "execution_count": 5,
   "metadata": {},
   "outputs": [
    {
     "data": {
      "text/plain": [
       "'나는 \"재밌어!\"'"
      ]
     },
     "execution_count": 5,
     "metadata": {},
     "output_type": "execute_result"
    }
   ],
   "source": [
    "# 큰따옴표 안에서 작은따옴표 or 작은따음표 안에 큰따음표 사용 ok\n",
    "\"I'm a programmer.\"\n",
    "'I\"m a programmer.'\n",
    "# 작은따옴표 안에서 작은따옴표 or 큰따음표 안에 큰따음표 사용 NOT ok-> 백슬래쉬 사용\n",
    "\"나는 \\\"재밌어!\\\"\""
   ]
  },
  {
   "cell_type": "markdown",
   "metadata": {},
   "source": [
    "위에 사용된 \\\\', \\\\\"와 같이 앞에 백슬래쉬(\\)를 붙여서 다른 의미를 갖게 된 문자들을 확장문자(**escape character**)라고 부릅니다. 아래에 더 나와요."
   ]
  },
  {
   "cell_type": "markdown",
   "metadata": {},
   "source": [
    "### 문자열 출력하기"
   ]
  },
  {
   "cell_type": "code",
   "execution_count": 6,
   "metadata": {},
   "outputs": [
    {
     "name": "stdout",
     "output_type": "stream",
     "text": [
      "\t12345678\n",
      "1\t12345678\n",
      "12\t12345678\n",
      "123\t12345678\n",
      "1234\t12345678\n",
      "12345\t12345678\n",
      "123456\t12345678\n",
      "1234567\t12345678\n",
      "12345678\t12345678\n"
     ]
    }
   ],
   "source": [
    "# 탭 규칙 : 8칸씩 줄을 맞춰줌. 8칸이 넘어가면 다음 칸으로 밀려남\n",
    "print(\"\\t12345678\")\n",
    "print(\"1\\t12345678\")\n",
    "print(\"12\\t12345678\")\n",
    "print(\"123\\t12345678\")\n",
    "print(\"1234\\t12345678\")\n",
    "print(\"12345\\t12345678\")\n",
    "print(\"123456\\t12345678\")\n",
    "print(\"1234567\\t12345678\")\n",
    "print(\"12345678\\t12345678\")"
   ]
  },
  {
   "cell_type": "code",
   "execution_count": 7,
   "metadata": {},
   "outputs": [
    {
     "name": "stdout",
     "output_type": "stream",
     "text": [
      "안녕하세요?\n",
      "안녕하세요\n"
     ]
    }
   ],
   "source": [
    "# 백스페이스(backspace)\n",
    "print(\"안녕하세요?\")\n",
    "print(\"안녕하세요?\\b\")\n",
    "\n",
    "# 백슬래쉬(backslash)\n",
    "print(\"백슬래쉬\\\\\")"
   ]
  },
  {
   "cell_type": "code",
   "execution_count": 10,
   "metadata": {},
   "outputs": [
    {
     "name": "stdout",
     "output_type": "stream",
     "text": [
      "C:\\jmhong\n",
      "ame\n",
      "C:\\jmhong\\name\n"
     ]
    }
   ],
   "source": [
    "# 의도치 않는 결과 (윈도우에서는 파일 경로 표시에 백슬래쉬를 사용합니다.)\n",
    "print(\"C:\\jmhong\\name\")\n",
    "# Raw strings: 앞에 r을 붙이며 백슬래쉬를 일반적인 문자로 처리합니다.\n",
    "print(r\"C:\\jmhong\\name\")"
   ]
  },
  {
   "cell_type": "code",
   "execution_count": 12,
   "metadata": {},
   "outputs": [
    {
     "name": "stdout",
     "output_type": "stream",
     "text": [
      "안녕하세요?반갑습니다.\n",
      "저는 꼭 여러 줄을 사용하고 싶네요.\n",
      "\n",
      "헬로우월드\n"
     ]
    }
   ],
   "source": [
    "# 여러 줄로 리터럴을 만들고 싶은 경우. 큰따옴표 or 작은따옴표 3개를 사용\n",
    "m = \"\"\"안녕하세요?\\\n",
    "반갑습니다.\n",
    "저는 꼭 여러 줄을 사용하고 싶네요.\n",
    "\"\"\"\n",
    "# 리터럴을 여러줄로 만들더라도 출력될 때는 줄바꿈을 없애고 싶은경우 '\\'를 넣어준다.\n",
    "print(m) \n",
    "\n",
    "# 문자열 2개는 자동으로 합쳐짐\n",
    "mm = \"헬로우\" \"월드\"\n",
    "print(mm)"
   ]
  },
  {
   "cell_type": "code",
   "execution_count": 13,
   "metadata": {},
   "outputs": [
    {
     "data": {
      "text/plain": [
       "'일이삼123'"
      ]
     },
     "execution_count": 13,
     "metadata": {},
     "output_type": "execute_result"
    }
   ],
   "source": [
    "# 더하기 연산자 +\n",
    "\"일이삼\" + str(123)"
   ]
  },
  {
   "cell_type": "code",
   "execution_count": 14,
   "metadata": {},
   "outputs": [
    {
     "data": {
      "text/plain": [
       "'일이삼일이삼일이삼'"
      ]
     },
     "execution_count": 14,
     "metadata": {},
     "output_type": "execute_result"
    }
   ],
   "source": [
    "# 곱하기 연산자는 반복\n",
    "\"일이삼\" * 3"
   ]
  },
  {
   "cell_type": "markdown",
   "metadata": {},
   "source": [
    "[참고] **표현식(expression)** 은 계산해서 어떤 값이 나오는 식을 의미합니다. 예를 들어서 3 * 4 와 같이 연산자와 피연산자로 이루어집니다. 피연산자에는 리터럴 외에도 변수나 함수 호출 등이 포함됩니다."
   ]
  },
  {
   "cell_type": "markdown",
   "metadata": {},
   "source": [
    "### 인덱싱(indexing)과 슬라이싱(slicing)"
   ]
  },
  {
   "cell_type": "code",
   "execution_count": 15,
   "metadata": {},
   "outputs": [
    {
     "data": {
      "text/plain": [
       "6"
      ]
     },
     "execution_count": 15,
     "metadata": {},
     "output_type": "execute_result"
    }
   ],
   "source": [
    "# 길이 재기\n",
    "len(\"ABC DE\") #빈칸도 글자"
   ]
  },
  {
   "cell_type": "code",
   "execution_count": 19,
   "metadata": {},
   "outputs": [
    {
     "data": {
      "text/plain": [
       "5"
      ]
     },
     "execution_count": 19,
     "metadata": {},
     "output_type": "execute_result"
    }
   ],
   "source": [
    "# 한글 길이 재기\n",
    "len(\"안녕하세요\")"
   ]
  },
  {
   "cell_type": "markdown",
   "metadata": {},
   "source": [
    "여러 글자로 이루어진 문자열에서 글자 하나를 가져오기 위해서는 대괄호 [] 안에 위치를 의미하는 숫자(**인덱스**)를 넣어줍니다.  \n",
    "이것을 **인덱싱**이라고 부릅니다. 문자열 외의 리스트나 튜플 같은 시퀀스(sequence)에도 사용이 가능합니다.\n"
   ]
  },
  {
   "cell_type": "code",
   "execution_count": 1,
   "metadata": {},
   "outputs": [
    {
     "name": "stdout",
     "output_type": "stream",
     "text": [
      "C\n",
      "F\n"
     ]
    }
   ],
   "source": [
    "# ABCDEF\n",
    "# 012345\n",
    "a = \"ABCDEF\"\n",
    "print(a[2])\n",
    "# 인덱스 -1은 마지막\n",
    "print(a[-1])"
   ]
  },
  {
   "cell_type": "markdown",
   "metadata": {},
   "source": [
    "인덱싱의 기능을 확장해서 일부를 잘라서 가져오는 것을 **슬라이싱**이라고 부릅니다."
   ]
  },
  {
   "cell_type": "code",
   "execution_count": 2,
   "metadata": {},
   "outputs": [
    {
     "name": "stdout",
     "output_type": "stream",
     "text": [
      "BCDEF\n",
      "ABCDEF\n",
      "ABC\n",
      "ABCDEF\n",
      "ABCDE\n",
      "CD\n",
      "\n",
      "ABCDEF\n",
      "ACE\n",
      "FEDCBA\n",
      "BD\n",
      "FEDCB\n",
      "FEDCBA\n"
     ]
    }
   ],
   "source": [
    "# 콜론 앞의 숫자는 잘라내기 시작하는 위치입니다.\n",
    "# ABCDEF\n",
    "# 012345\n",
    "print(a[1:])\n",
    "\n",
    "# 콜론만 넣으면 전체\n",
    "print(a[:])\n",
    "\n",
    "# 첫 번째 콜론 오른쪽의 숫자는 '포함되지 않는' 마지막 위치입니다.\n",
    "# 마지막 위치의 하나 전까지 포함됩니다.\n",
    "print(a[:3])\n",
    "\n",
    "# a[:i] + a[i:]는 a와 동일\n",
    "print(a[:3] + a[3:])\n",
    "\n",
    "# 마지막 위치에 음의 인덱스를 사용할 수도 있습니다.\n",
    "print(a[:-1])\n",
    "\n",
    "# 시작과 끝을 모두 사용할 수 있습니다.\n",
    "print(a[2:4])\n",
    "\n",
    "# 시작에 len(a) 이상의 인덱스 사용시, 빈 문자열 출력\n",
    "print(a[1000:]) \n",
    "\n",
    "# 범위가 넘어가면 전체\n",
    "print(a[0:1000])\n",
    "\n",
    "# 건너 뛰면서 가져오고 싶을 때는 두번째 콜론 오른쪽에 1외의 숫자를 사용(step)\n",
    "# 한걸음 두걸음 할 때와 같은 의미의 step이라고 부릅니다.\n",
    "print(a[::2])\n",
    "\n",
    "# 스텝(step)에 음수를 사용하면 역순으로 가져옵니다.\n",
    "print(a[::-1])\n",
    "\n",
    "# 시작, 종료, 스텝 세 가지를 모두 사용할 수 있습니다.\n",
    "print(a[1:5:2])\n",
    "\n",
    "# 음의 스텝을 사용할 때는 시작과 종료도 순서가 역순이어야 합니다.\n",
    "print(a[-1:0:-1])\n",
    "\n",
    "# 종료를 생략하면 마지막까지 포함\n",
    "print(a[-1::-1])"
   ]
  },
  {
   "cell_type": "markdown",
   "metadata": {},
   "source": [
    "### 문자열의 불변성\n",
    "파이썬의 문자열(str)은 불변(immutable) 자료형입니다. 일부를 수정할 수 없고 대신에 수정된 객체를 새로 만들어야 합니다."
   ]
  },
  {
   "cell_type": "code",
   "execution_count": 1,
   "metadata": {},
   "outputs": [
    {
     "ename": "TypeError",
     "evalue": "'str' object does not support item assignment",
     "output_type": "error",
     "traceback": [
      "\u001b[0;31m---------------------------------------------------------------------------\u001b[0m",
      "\u001b[0;31mTypeError\u001b[0m                                 Traceback (most recent call last)",
      "Cell \u001b[0;32mIn[1], line 5\u001b[0m\n\u001b[1;32m      1\u001b[0m \u001b[38;5;66;03m# 불변 객체의 일부를 바꿀 수 없습니다.\u001b[39;00m\n\u001b[1;32m      2\u001b[0m \u001b[38;5;66;03m# ABCDEF\u001b[39;00m\n\u001b[1;32m      3\u001b[0m \u001b[38;5;66;03m# 012345\u001b[39;00m\n\u001b[1;32m      4\u001b[0m a \u001b[38;5;241m=\u001b[39m \u001b[38;5;124m\"\u001b[39m\u001b[38;5;124mABCDEF\u001b[39m\u001b[38;5;124m\"\u001b[39m\n\u001b[0;32m----> 5\u001b[0m \u001b[43ma\u001b[49m\u001b[43m[\u001b[49m\u001b[38;5;241;43m2\u001b[39;49m\u001b[43m]\u001b[49m \u001b[38;5;241m=\u001b[39m \u001b[38;5;124m\"\u001b[39m\u001b[38;5;124mX\u001b[39m\u001b[38;5;124m\"\u001b[39m\n",
      "\u001b[0;31mTypeError\u001b[0m: 'str' object does not support item assignment"
     ]
    }
   ],
   "source": [
    "# 불변 객체의 일부를 바꿀 수 없습니다.\n",
    "# ABCDEF\n",
    "# 012345\n",
    "a = \"ABCDEF\"\n",
    "a[2] = \"X\""
   ]
  },
  {
   "cell_type": "code",
   "execution_count": 41,
   "metadata": {},
   "outputs": [
    {
     "name": "stdout",
     "output_type": "stream",
     "text": [
      "ABXDEF\n"
     ]
    }
   ],
   "source": [
    "# 특정 위치의 한 글자만 바꾸고 싶다면?\n",
    "# ABCDEF\n",
    "# 012345\n",
    "\n",
    "a = a[:2] + \"X\" + a[3:]\n",
    "print(a)"
   ]
  },
  {
   "cell_type": "markdown",
   "metadata": {},
   "source": [
    "### 문자열의 매써드\n",
    "문자열 객체는 다양한 메써드들을 이용해서 문자열을 다룰 수 있습니다."
   ]
  },
  {
   "cell_type": "code",
   "execution_count": 43,
   "metadata": {},
   "outputs": [
    {
     "name": "stdout",
     "output_type": "stream",
     "text": [
      "HELLO, WORLD\n",
      "hello, world\n"
     ]
    }
   ],
   "source": [
    "# 대문자, 소문자로 바꾸기\n",
    "s = \"Hello, World\"\n",
    "print(s.upper())\n",
    "print(s.lower())"
   ]
  },
  {
   "cell_type": "code",
   "execution_count": 45,
   "metadata": {},
   "outputs": [
    {
     "name": "stdout",
     "output_type": "stream",
     "text": [
      "Hello\n",
      " World! I love you!\n"
     ]
    }
   ],
   "source": [
    "# 공백을 기준으로 문자열을 나누기\n",
    "s = \"Hello, World! I love you!\"\n",
    "l = s.split(',')\n",
    "print(l[0])\n",
    "print(l[1])"
   ]
  },
  {
   "cell_type": "code",
   "execution_count": 48,
   "metadata": {},
   "outputs": [
    {
     "name": "stdout",
     "output_type": "stream",
     "text": [
      "True\n",
      "H\n",
      "e\n",
      "l\n",
      "l\n",
      "o\n"
     ]
    }
   ],
   "source": [
    "# 멤버쉽 연산자 in\n",
    "s = \"Hello\"\n",
    "print('H' in s)\n",
    "\n",
    "# 반복문과 함께 사용\n",
    "for c in s:\n",
    "    print(c)"
   ]
  },
  {
   "cell_type": "markdown",
   "metadata": {},
   "source": [
    "더 다양한 메써드들의 사용법은 [공식 문서](https://docs.python.org/3/library/stdtypes.html#string-methods)와 아래 예제들을 참고하세요.  \n",
    "특히 [여기](https://www.w3schools.com/python/python_ref_string.asp)에서는 온라인 파이썬으로 빠르게 테스트해볼 수도 있습니다. 메써드 이름을 클릭해보세요."
   ]
  },
  {
   "cell_type": "code",
   "execution_count": 51,
   "metadata": {},
   "outputs": [
    {
     "name": "stdout",
     "output_type": "stream",
     "text": [
      "Abc def\n",
      "Abc Def\n",
      "2\n",
      "True\n",
      "2\n",
      "True\n",
      "OOOOABC\n",
      "OOOOHELLOOOOOHELLO\n",
      "00123.jpg\n"
     ]
    }
   ],
   "source": [
    "print(\"abc def\".capitalize())  # 첫 글자를 대문자로\n",
    "print(\"abc def\".title())  # 각 단어의 첫 글자를 대문자로\n",
    "\n",
    "txt = \"I love apples, apple are my favorite fruit\"\n",
    "print(txt.count(\"apple\"))  # \"apple\"이 txt에 몇 번 나오는지를 세줍니다.\n",
    "\n",
    "filename = \"blakpink.png\"\n",
    "print(filename.endswith(\"png\"))  # filename의 마지막이 \"png\"로 끝나는지 확인합니다.\n",
    "\n",
    "txt = \"ABCDEF\"\n",
    "print(txt.find(\"CD\"))  # \"CD\"의 위치를 찾아서 인덱스를 알려줍니다.\n",
    "\n",
    "txt = \"1234\"\n",
    "print(txt.isdigit())  # 모든 글자가 숫자인지를 확인합니다. input()과 함께 많이 사용됩니다.\n",
    "\n",
    "txt = \"ABABCBAOOOOABC\"\n",
    "print(txt.lstrip(\"ABC\"))  # 왼쪽에서부터 A 또는 B 또는 C를 모두 제거\n",
    "\n",
    "txt = \"OOOOABCOOOOABC\"\n",
    "print(txt.replace(\"ABC\", \"HELLO\"))  # \"ABC\"를 \"HELLO\"로 교체\n",
    "\n",
    "# z는 zero의 약자입니다. 최소 5글자가 되도록 왼쪽에서부터 0으로 채워줍니다.\n",
    "# 연속되는 파일들을 저장할때 많이 사용합니다.\n",
    "txt = \"123\"\n",
    "print(txt.zfill(5) + \".jpg\")"
   ]
  },
  {
   "cell_type": "markdown",
   "metadata": {},
   "source": [
    "### 문자열 포매팅(formatting)\n",
    "문자열을 원하는 형식에 맞출 수 있습니다. 보통 화면에 출력할 때 많이 사용합니다.\n",
    "\n",
    "1. 수동으로 문자열을 만들어서 맞춰주기\n",
    "1. [% 연산자를 사용하는 옛날 방식](https://docs.python.org/3/library/stdtypes.html#old-string-formatting)\n",
    "1. [문자열의 format() 메써드](https://docs.python.org/3/tutorial/inputoutput.html#the-string-format-method)\n",
    "1. [형식을 맞춘 문자열 리터럴(파이썬 3.6 이상 F-String)](https://docs.python.org/3/tutorial/inputoutput.html#formatted-string-literals)\n",
    "1. 한글 줄맞춤\n"
   ]
  },
  {
   "cell_type": "markdown",
   "metadata": {},
   "source": [
    "수동으로 문자열을 만들어서 맞춰주기"
   ]
  },
  {
   "cell_type": "code",
   "execution_count": 52,
   "metadata": {},
   "outputs": [
    {
     "data": {
      "text/plain": [
       "'ABCDEFG   '"
      ]
     },
     "execution_count": 52,
     "metadata": {},
     "output_type": "execute_result"
    }
   ],
   "source": [
    "# .ljust() 메써드는 모자르는 글자수 만큼 빈칸을 넣어줍니다.\n",
    "\"ABCDEFG\".ljust(10)"
   ]
  },
  {
   "cell_type": "code",
   "execution_count": 53,
   "metadata": {},
   "outputs": [
    {
     "name": "stdout",
     "output_type": "stream",
     "text": [
      "ABCDEFG    HIJKLMN   \n"
     ]
    }
   ],
   "source": [
    "# 줄을 맞춰주기 위해서 .ljust()를 이용해서 빈칸을 넣어줍니다.\n",
    "print(\"ABCDEFG\".ljust(10), \"HIJKLMN\".ljust(10))\n",
    "\n",
    "# 한글에서는 이 방식이 제대로 작동하지 않습니다."
   ]
  },
  {
   "cell_type": "markdown",
   "metadata": {},
   "source": [
    "[% 연산자를 사용하는 옛날 방식](https://docs.python.org/3/library/stdtypes.html#old-string-formatting)"
   ]
  },
  {
   "cell_type": "code",
   "execution_count": 55,
   "metadata": {},
   "outputs": [
    {
     "name": "stdout",
     "output_type": "stream",
     "text": [
      "나는 피자를 좋아합니다.\n",
      "원주율은 3 입니다.\n",
      "원주율은 3.14 입니다.\n"
     ]
    }
   ],
   "source": [
    "# 문자열 삽입\n",
    "print(\"나는 %s를 좋아합니다.\" % \"피자\")\n",
    "print(\"원주율은 %d 입니다.\" % 3.141592)\n",
    "print(\"원주율은 %.2f 입니다.\" % 3.141592)"
   ]
  },
  {
   "cell_type": "markdown",
   "metadata": {},
   "source": [
    "[문자열의 format() 메써드](https://docs.python.org/3/tutorial/inputoutput.html#the-string-format-method)"
   ]
  },
  {
   "cell_type": "code",
   "execution_count": 64,
   "metadata": {},
   "outputs": [
    {
     "name": "stdout",
     "output_type": "stream",
     "text": [
      "나는 피자를 좋아합니다.\n",
      "Apple Banana Cherry\n",
      "Cherry Banana Apple\n",
      "Apple Banana Cherry\n",
      "Name     | Count\n",
      "Mango    |     5\n",
      "Left       |   Center   |      Right\n",
      "Lefttttt | *Center* | ___Right\n",
      "The result is   123.4568\n"
     ]
    }
   ],
   "source": [
    "print(\"나는 {}를 좋아합니다.\".format(\"피자\"))\n",
    "\n",
    "# 여러 개를 삽입할때는 인덱스를 사용할 수 있습니다.\n",
    "print(\"{} {} {}\".format(\"Apple\", \"Banana\", \"Cherry\"))\n",
    "print(\"{2} {1} {0}\".format(\"Apple\", \"Banana\", \"Cherry\"))\n",
    "\n",
    "# 이름을 반복해서 사용할 수도 있습니다.\n",
    "print(\"{a} {b} {c}\".format(a = \"Apple\", b = \"Banana\", c = \"Cherry\"))\n",
    "\n",
    "# <, ^, > : left, center, right\n",
    "print(\"{0:8} | {1:5}\".format(\"Name\", \"Count\")) #0번째 요소(Name)을 8글자로, 1번째 요소(Count)를 5글자로 가져오라는 뜻. 빈 부분은 빈 문자열로 채워줌\n",
    "print(\"{0:8} | {1:5}\".format(\"Mango\", 5))\n",
    "\n",
    "print(\"{0:<10} | {1:^10} | {2:>10}\".format(\"Left\", \"Center\", \"Right\")) #글짜 정렬 지정\n",
    "\n",
    "print(\"{0:t<8} | {1:*^8} | {2:_>8}\".format(\"Left\", \"Center\", \"Right\")) #정렬 하되 빈곳을 특정 문자로 채움\n",
    "\n",
    "# float precision\n",
    "print(\"The result is {0:10.4f}\".format(123.456789)) # 총 10글자가 되도록 빈칸 추가, 소수점 아래 자리가 4개가 되도록 절삭\n"
   ]
  },
  {
   "cell_type": "markdown",
   "metadata": {},
   "source": [
    "[형식을 맞춘 문자열 리터럴(파이썬 3.6 이상 F-String)](https://docs.python.org/3/tutorial/inputoutput.html#formatted-string-literals)"
   ]
  },
  {
   "cell_type": "code",
   "execution_count": 2,
   "metadata": {},
   "outputs": [
    {
     "name": "stdout",
     "output_type": "stream",
     "text": [
      "나는 아이언맨 이다.\n",
      "나는 {아이언맨} 이다.\n",
      "Added: 3\n",
      "1 더하기 2는 3\n",
      "Result: 10\n"
     ]
    }
   ],
   "source": [
    "name = \"아이언맨\"\n",
    "\n",
    "# 리터럴 앞에 f 또는 F를 붙여주고 물결 괄호 안에 표현식(expression)을 넣습니다.\n",
    "print(f\"나는 {name} 이다.\")\n",
    "\n",
    "# 물결괄호 자체를 출력하고 싶은 경우\n",
    "print(f\"나는 {{{name}}} 이다.\")\n",
    "\n",
    "# 리터럴 연산\n",
    "print(f\"Added: {1+2}\")\n",
    "\n",
    "# 변수와 연산자\n",
    "a, b = 1, 2\n",
    "print(f\"{a} 더하기 {b}는 {a + b}\")\n",
    "\n",
    "# 함수도 사용 가능\n",
    "print(f\"Result: {abs(-10)}\")\n",
    "\n"
   ]
  },
  {
   "cell_type": "code",
   "execution_count": null,
   "metadata": {},
   "outputs": [],
   "source": [
    "# 백슬래쉬를 직접 사용할 수 없음\n",
    "f\"Newline is {\\n}\""
   ]
  },
  {
   "cell_type": "code",
   "execution_count": 71,
   "metadata": {},
   "outputs": [
    {
     "data": {
      "text/plain": [
       "'Newline is \\n a'"
      ]
     },
     "execution_count": 71,
     "metadata": {},
     "output_type": "execute_result"
    }
   ],
   "source": [
    "# 간접적으로는 사용 가능\n",
    "newline = \"\\n\"\n",
    "f\"Newline is {newline}\""
   ]
  },
  {
   "cell_type": "code",
   "execution_count": 74,
   "metadata": {},
   "outputs": [
    {
     "name": "stdout",
     "output_type": "stream",
     "text": [
      "123.56789\n",
      "계산 결과:  123.5679\n",
      "계산 결과:   123.568\n",
      "계산 결과:    1.2300\n",
      "계산 결과:      1.23\n",
      "계산 결과:    1.2300\n"
     ]
    }
   ],
   "source": [
    "# float 정밀도 조절에서 .format()과 f-string의 사용법이 약간 달라요\n",
    "# f-string에서는 {width}.{precision} 형식으로 float 출력을 조절할 수 있습니다.\n",
    "\n",
    "num = 123.56789\n",
    "print(str(num))\n",
    "print(\"계산 결과:{0:10.4f}\".format(num))  # 4는 소수점 이하\n",
    "print(f\"계산 결과:{num:{10}.{6}}\")  # 10은 빈칸 포함 총 글자수, 6은 출력되는 숫자수('.'은 포함안하고 계산)\n",
    "\n",
    "num = 1.23\n",
    "print(\"계산 결과:{0:10.4f}\".format(num)) # 4는 소수점 이하, 0으로 패딩해줌\n",
    "print(f\"계산 결과:{num:{10}.{6}}\") # 6을 출력되는 총 숫자, 0으로 패딩을 해주지 않음\n",
    "print(f\"계산 결과:{num:10.4f}\") # f-string 사용시에도, {} 없이 format에서의 사용방법으로 패딩 가능\n"
   ]
  },
  {
   "cell_type": "code",
   "execution_count": 75,
   "metadata": {},
   "outputs": [
    {
     "name": "stdout",
     "output_type": "stream",
     "text": [
      "계산 결과:      1.23\n"
     ]
    }
   ],
   "source": [
    "# f-string에서는 width와 precision에도 변수를 사용할 수 있습니다.\n",
    "# 사용하기에 따라서는 큰 장점이 될 수도 있습니다.\n",
    "num = 1.23\n",
    "width = 10\n",
    "precision = 6\n",
    "print(f\"계산 결과:{num:{width}.{precision}}\")"
   ]
  },
  {
   "cell_type": "markdown",
   "metadata": {},
   "source": [
    "[정리] float 출력 정밀도 조절\n",
    "> format() : 10.4f와 같은 형식 지정자(format specifier)만 사용 가능. 10이나 4 자리에 변수 사용 불가  \n",
    "> f-string : 10.4f 같은 형식 지정자와 {10}.{6} 방식 **둘 다 사용 가능**. 물결괄호 안에 **변수 사용 가능**"
   ]
  },
  {
   "cell_type": "markdown",
   "metadata": {},
   "source": [
    "[보충] f-string에서 ```{name}```과 같이 나중에 다른 데이터로 치환(교체) 될 부분을 ```{}```로 표시해놓은 것을 [치환 필드(replacement field)](https://docs.python.org/ko/3/reference/lexical_analysis.html#formatted-string-literals)라고 부릅니다.\n",
    "```{num:{width}.{precision}}```와 같이 치환 필드 안에 다시 치환 필드가 들어있는 것을 [중첩된 필드(nested field)](https://docs.python.org/ko/3/reference/lexical_analysis.html#formatted-string-literals)라고 부릅니다. \n",
    "'필드(field)'는 단순하게 설명하면 데이터의 일부를 의미하는 용어인데 보통 '데이터베이스(database)'에서 자세히 배웁니다. \n",
    "유사한 기능을 하는 ```{}``` 문법을 [format()의 공식 문서](https://docs.python.org/ko/3/tutorial/inputoutput.html#the-string-format-method)에서는 '포맷 필드(format field)'라고 부르고 있습니다.  \n",
    "파이썬은 발전 속도가 빨라서 공식문서도 아직 애매한 부분들이 있기 때문에 용어 자체에 너무 신경쓰지 마시고 개념만 이해해두시면 됩니다."
   ]
  },
  {
   "cell_type": "markdown",
   "metadata": {},
   "source": [
    "[선택] 한글 줄맞춤"
   ]
  },
  {
   "cell_type": "code",
   "execution_count": 76,
   "metadata": {},
   "outputs": [
    {
     "name": "stdout",
     "output_type": "stream",
     "text": [
      "첫 번째 단어      | 두 번째 단어     \n",
      "셋째           | 넷째          \n"
     ]
    }
   ],
   "source": [
    "# 앞에서 영문으로 줄맞춤 하는 방식을 한글에 그대로 적용시 원하는대로 동작 안함. 한글의 width가 영문 및 빈칸보다 크기 때문\n",
    "print(\"{0:12} | {1:12}\".format(\"첫 번째 단어\", \"두 번째 단어\"))\n",
    "print(\"{0:12} | {1:12}\".format(\"셋째\", \"넷째\"))"
   ]
  },
  {
   "cell_type": "code",
   "execution_count": 5,
   "metadata": {},
   "outputs": [
    {
     "name": "stdout",
     "output_type": "stream",
     "text": [
      "6 4\n",
      "12\n",
      "첫 번째 단어|두 번째 단어\n",
      "셋째        |넷째        \n",
      "첫 번째 단어\t|두 번째 단어\n",
      "셋째        \t|넷째        \n"
     ]
    }
   ],
   "source": [
    "# 앞에 느낌표를 붙여서 주피터 노트북에서도 패키지 설치를 할 수 있습니다.\n",
    "#!pip install wcwidth\n",
    "# 알파벳 외의 다른 글자들도 width를 정확히 알려주는 모듈\n",
    "\n",
    "from wcwidth import wcswidth\n",
    "\n",
    "print(wcswidth(\"안녕AB\"), len(\"안녕AB\"))\n",
    "\n",
    "\n",
    "def wcpadding(s, l):\n",
    "    return s + \" \" * (l - wcswidth(s))\n",
    "\n",
    "\n",
    "print(wcswidth(\"첫 번째 단어\"))\n",
    "\n",
    "# 스크립트 모드의 터미널 출력에서는 정확하게 줄맞춤 가능. \n",
    "# 지금은 쥬피터 노트북이기 때문에 살짝 어긋나는것을 볼수 있음. 터미널과 출력방식이 약간 다르기 때문. \n",
    "print(\"{0}|{1}\".format(wcpadding(\"첫 번째 단어\", 12), wcpadding(\"두 번째 단어\", 12)))\n",
    "print(\"{0}|{1}\".format(wcpadding(\"셋째\", 12), wcpadding(\"넷째\", 12)))\n",
    "\n",
    "# 쥬피터 노트북 에서도 정확하게 줄맞춤 하기위해 \\t를 사용\n",
    "print(\"{0}\\t|{1}\".format(wcpadding(\"첫 번째 단어\", 12), wcpadding(\"두 번째 단어\", 12)))\n",
    "print(\"{0}\\t|{1}\".format(wcpadding(\"셋째\", 12), wcpadding(\"넷째\", 12)))"
   ]
  }
 ],
 "metadata": {
  "kernelspec": {
   "display_name": "env_3_10",
   "language": "python",
   "name": "python3"
  },
  "language_info": {
   "codemirror_mode": {
    "name": "ipython",
    "version": 3
   },
   "file_extension": ".py",
   "mimetype": "text/x-python",
   "name": "python",
   "nbconvert_exporter": "python",
   "pygments_lexer": "ipython3",
   "version": "3.10.13"
  }
 },
 "nbformat": 4,
 "nbformat_minor": 2
}
