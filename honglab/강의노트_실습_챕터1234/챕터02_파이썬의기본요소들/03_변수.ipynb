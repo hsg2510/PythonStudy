{
 "cells": [
  {
   "cell_type": "markdown",
   "metadata": {},
   "source": [
    "# 변수의 기본적인 사용법"
   ]
  },
  {
   "cell_type": "markdown",
   "metadata": {},
   "source": [
    "### 변수 이름 짓기"
   ]
  },
  {
   "cell_type": "markdown",
   "metadata": {},
   "source": [
    "[스네이크 케이스](https://en.wikipedia.org/wiki/Snake_case): 단어들을 모두 소문자로 적고 그 사이를 언더스코어로 연결.  \n",
    "> 예) snake_case, my_name, tax_rate, ...  \n",
    "\n",
    "[캐멀 케이스](https://en.wikipedia.org/wiki/Camel_case): 단어들의 첫 글자만 대문자로 적어서 구분.  \n",
    "> 예) CamelCase, StatusRequest, ...\n",
    "\n",
    "파이썬의 표준 스타일 권고안인 [PEP8](https://www.python.org/dev/peps/pep-0008/#function-and-variable-names)에서는 함수와 변수의 이름에 스네이크 케이스 방식을 권장하고 있습니다.  \n",
    "참고로 사용자 정의 자료형인 클래스(class) 이름은 캐멀 케이스를 권장합니다."
   ]
  },
  {
   "cell_type": "code",
   "execution_count": 10,
   "metadata": {},
   "outputs": [],
   "source": [
    "first_name = \"Jeong-Mo\""
   ]
  },
  {
   "cell_type": "markdown",
   "metadata": {},
   "source": [
    "[파이썬 키워드 목록](https://docs.python.org/3/reference/lexical_analysis.html#keywords) (소프트키워드는 3.10이상)"
   ]
  },
  {
   "cell_type": "code",
   "execution_count": 11,
   "metadata": {},
   "outputs": [
    {
     "data": {
      "text/plain": [
       "True"
      ]
     },
     "execution_count": 11,
     "metadata": {},
     "output_type": "execute_result"
    }
   ],
   "source": [
    "import keyword\n",
    "\n",
    "keyword.iskeyword(\"continue\") # 키워드에 포함되는 문자는 변수이름으로 사용하면 안된다."
   ]
  },
  {
   "cell_type": "markdown",
   "metadata": {},
   "source": [
    "### 동적인 자료형 결정 (Dynamic Typing)\n",
    "\n",
    "같은 변수 이름을 여러가지 자료형의 객체에게 바꿔가면서 할당할 수 있어요. 자료형을 정적으로 고정해놓는 것이 아니라 동적으로 그때그때 바꿀 수 있다는 의미로 **Dynamic Typing**이라고 부릅니다. 파이썬에서는 변수가 이름이라는 점을 이미 배웠기 때문에 그다지 신기한 일은 아니지요. '강아지'에게 '고양이'라는 이름을 붙인다고 강아지가 고양이로 변하는 것은 아니니까요.  \n",
    "그러나, 다른 언어와 비교할 때는 큰 차이 입니다. 예를 들어서 C언어에서는\n",
    "```\n",
    "int a;\n",
    "```\n",
    "와 같이 변수를 '선언'할 때 자료형을 고정시켜버리기 때문에 다른 자료형으로 바꿀 수가 없습니다.  \n",
    "Dynamic Typing의 장점은 \"객체의 자료형을 몰라도 된다\"이고 단점은 오류가 생겼을 때 \"객체의 자료형을 알기가 어렵다\"입니다. type()으로 확인해보면 되니까 너무 걱정마세요. 보완하는 방법도 함수에서 배우도록 하겠습니다."
   ]
  },
  {
   "cell_type": "code",
   "execution_count": 12,
   "metadata": {},
   "outputs": [
    {
     "name": "stdout",
     "output_type": "stream",
     "text": [
      "<class 'int'>\n",
      "<class 'float'>\n",
      "<class 'str'>\n"
     ]
    }
   ],
   "source": [
    "a = 1\n",
    "print(type(a))\n",
    "a = 1.0 \n",
    "print(type(a))\n",
    "a = \"Hello\"\n",
    "print(type(a))"
   ]
  },
  {
   "cell_type": "markdown",
   "metadata": {},
   "source": [
    "### 가변성(Mutability)과 불변성(Immutability)\n",
    "같은 객체에 이름표를 두 개 발급할 수도 있어요."
   ]
  },
  {
   "cell_type": "code",
   "execution_count": 13,
   "metadata": {},
   "outputs": [
    {
     "name": "stdout",
     "output_type": "stream",
     "text": [
      "1681946663088 123\n",
      "1681946663088 123\n"
     ]
    }
   ],
   "source": [
    "a = 123\n",
    "b = a \n",
    "print(id(a), a)\n",
    "print(id(b), b)"
   ]
  },
  {
   "cell_type": "markdown",
   "metadata": {},
   "source": [
    "하지만 b의 값을 바꾸면 (b가 가리키고 있는 정수 객체의 값을 바꾸려고 시도하면) id가 달라집니다."
   ]
  },
  {
   "cell_type": "code",
   "execution_count": 14,
   "metadata": {},
   "outputs": [
    {
     "name": "stdout",
     "output_type": "stream",
     "text": [
      "1681946663088 123\n",
      "1681946663120 124\n"
     ]
    }
   ],
   "source": [
    "b = b + 1\n",
    "print(id(a), a)\n",
    "print(id(b), b)"
   ]
  },
  {
   "cell_type": "markdown",
   "metadata": {},
   "source": [
    "b 객체의 값을 바꾸는 것이 아니라 아예 새로운 값을 갖는 객체를 새로 만들기 때문입니다.  \n",
    "이것은 int 자료형이 객체의 값을 바꿀 수 없는(immutable) 자료형이기 때문입니다.  \n",
    "파이썬의 자료형에는 값을 바꿀 수 있는 것들(mutable)과 바꿀 수 없는 것들(immutable)이 있습니다.  \n",
    "\n",
    "|   | Immutable | Mutable|\n",
    "|---|---|---|\n",
    "|**Type**|int, float, bool, str, tuple|list, dict, set|"
   ]
  }
 ],
 "metadata": {
  "interpreter": {
   "hash": "d187a48a8a4b28f37103ceb7e85bceb2b63d70db7314890fe18e7e16ec425e3f"
  },
  "kernelspec": {
   "display_name": "Python 3.9.7 64-bit ('base': conda)",
   "language": "python",
   "name": "python3"
  },
  "language_info": {
   "codemirror_mode": {
    "name": "ipython",
    "version": 3
   },
   "file_extension": ".py",
   "mimetype": "text/x-python",
   "name": "python",
   "nbconvert_exporter": "python",
   "pygments_lexer": "ipython3",
   "version": "3.9.5"
  },
  "orig_nbformat": 4
 },
 "nbformat": 4,
 "nbformat_minor": 2
}
