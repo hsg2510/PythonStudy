{
 "cells": [
  {
   "cell_type": "markdown",
   "metadata": {},
   "source": [
    "# 튜플(Tuple)\n",
    "\n",
    "|이름|type|예시|가변성|순서유지|중복허용|\n",
    "|---|---|---|---|---|---|\n",
    "|리스트|list|```[\"사과\", 123, 3.14]```|가변|O|O|\n",
    "|튜플|tuple|```(\"사과\", 123, 3.14)```|불변|O|O|\n",
    "|집합|set|```{\"사과\", 123, 3.14}```|가변|X|X|\n",
    "|사전|dict|```{\"원주율\":3.14, 123:\"일이삼\"}```|가변|3.6+|키X값O|\n",
    "\n",
    "\n",
    "튜플은 다양한 데이터 객체들을 담을 수 있다는 점에서 리스트 같이 시퀀스로 분류됩니다. 그러나 리스트와 달리 튜플은 불변(immutable)이기 때문에 용법에서 차이가 있습니다."
   ]
  },
  {
   "cell_type": "markdown",
   "metadata": {},
   "source": [
    "### 튜플 만들기\n",
    "튜플은 괄호와 컴마를 사용합니다. 이때 컴마가 있다면 괄호를 생략할 수도 있습니다."
   ]
  },
  {
   "cell_type": "code",
   "execution_count": null,
   "metadata": {},
   "outputs": [],
   "source": [
    "# 괄호와 컴마 사용\n",
    "t = ()  # 비어있는 튜플\n",
    "t = (1, 2, 3)\n",
    "t = (\"Hello\", 3.14, 123)  # 여러가지 객체들을 담을 수 있어요\n",
    "t = (\"hello\",)  # 맨 뒤에 컴마가 있으면 아이템이 하나만 있는 튜플을 만들 수 있어요. 컴마가 없으면 그냥 문자열입니다.\n",
    "# t = \"hello\",  # 가독성을 높이기 위해 포매터가 괄호를 넣어줍니다.\n",
    "t = 1, 2, 3  # 튜플을 만들 때 괄호를 생략하는 것을 패킹(packing)이라고 부르기도 합니다."
   ]
  },
  {
   "cell_type": "code",
   "execution_count": null,
   "metadata": {},
   "outputs": [],
   "source": [
    "# 리스트 <-> 튜플\n",
    "l = [123, 3.14, \"Hello\"]\n",
    "t = tuple(l)\n",
    "new_l = list(t)\n"
   ]
  },
  {
   "cell_type": "code",
   "execution_count": 1,
   "metadata": {},
   "outputs": [
    {
     "data": {
      "text/plain": [
       "True"
      ]
     },
     "execution_count": 1,
     "metadata": {},
     "output_type": "execute_result"
    }
   ],
   "source": [
    "# 튜플도 안에 튜플을 넣을 수 있어요.\n",
    "t = 123, 3.14, \"hi!\"\n",
    "u = t, (1, 2, 3)\n",
    "print(id(t) == id(u[0]))\n",
    "\n",
    "# 튜플 안에 리스트를 넣을 수도 있습니다.\n",
    "v = ([1, 2], [3.0, 4.9])"
   ]
  },
  {
   "cell_type": "markdown",
   "metadata": {},
   "source": [
    "[주의] 그러나 튜플 안에 가변 객체가 들어 있으면 사전(dict)의 키(key)로 사용될 수 없습니다. 뒤에 dictionary에서 더 자세히 배웁니다."
   ]
  },
  {
   "cell_type": "code",
   "execution_count": 2,
   "metadata": {},
   "outputs": [
    {
     "ename": "NameError",
     "evalue": "name 'v' is not defined",
     "output_type": "error",
     "traceback": [
      "\u001b[1;31m---------------------------------------------------------------------------\u001b[0m",
      "\u001b[1;31mNameError\u001b[0m                                 Traceback (most recent call last)",
      "Cell \u001b[1;32mIn[2], line 1\u001b[0m\n\u001b[1;32m----> 1\u001b[0m d \u001b[38;5;241m=\u001b[39m {\u001b[43mv\u001b[49m: \u001b[38;5;124m\"\u001b[39m\u001b[38;5;124mhello\u001b[39m\u001b[38;5;124m\"\u001b[39m}\n",
      "\u001b[1;31mNameError\u001b[0m: name 'v' is not defined"
     ]
    }
   ],
   "source": [
    "d = {v: \"hello\"}"
   ]
  },
  {
   "cell_type": "markdown",
   "metadata": {},
   "source": [
    "### 튜플의 기본적인 사용법\n",
    "\n",
    "인덱싱과 슬라이싱 방법은 리스트와 동일합니다."
   ]
  },
  {
   "cell_type": "code",
   "execution_count": 5,
   "metadata": {},
   "outputs": [
    {
     "name": "stdout",
     "output_type": "stream",
     "text": [
      "2\n",
      "5\n"
     ]
    }
   ],
   "source": [
    "t = (\"A\", \"B\", \"C\", \"D\", \"E\")\n",
    "\n",
    "# 아이템이 몇 개 들어있는 지를 알려줍니다\n",
    "len(t)\n",
    "\n",
    "# \"C\"가 들어있는 위치 인덱스를 알려줍니다.\n",
    "print(t.index(\"C\"))\n",
    "\n",
    "# 3이 몇 개 들어있는지를 알려줍니다.\n",
    "t = (1, 2, 3, 3, 3, 3, 3, 4, 5)\n",
    "print(t.count(3))\n",
    "\n"
   ]
  },
  {
   "cell_type": "markdown",
   "metadata": {},
   "source": [
    "### 패킹(packing)과 언패킹(unpacking)"
   ]
  },
  {
   "cell_type": "markdown",
   "metadata": {},
   "source": [
    "튜플을 만들 때 괄호를 생략하는 것을 여러 객체들을 묶어서 포장한다는 의미에서 패킹(packing)이라고 부르기도 합니다."
   ]
  },
  {
   "cell_type": "code",
   "execution_count": 6,
   "metadata": {},
   "outputs": [],
   "source": [
    "t = 1, 2, 3"
   ]
  },
  {
   "cell_type": "code",
   "execution_count": 11,
   "metadata": {},
   "outputs": [],
   "source": [
    "# 튜플 언패킹(unpacking)\n",
    "t = (123, 456, \"hello\")\n",
    "x, y, z = t\n",
    "\n",
    "# 아이템 중 일부를 사용하지 않을 예정이라면 언더스코어로 개수만 맞출 수도 있습니다.\n",
    "# _는 변수가 아니라 그 자리로 언패킹될 아이템은 안받겠다는 의미입니다.\n",
    "x, y, _ = t"
   ]
  },
  {
   "cell_type": "markdown",
   "metadata": {},
   "source": [
    "문자열이나 리스트 같은 다른 시퀀스에서도 언패킹을 사용할 수 있습니다."
   ]
  },
  {
   "cell_type": "code",
   "execution_count": 12,
   "metadata": {},
   "outputs": [],
   "source": [
    "# 문자열 언패킹\n",
    "s = \"AB\"\n",
    "a, b = s\n",
    "\n",
    "# 리스트 언패킹\n",
    "l = [1, 2, 3]\n",
    "a, b, _ = l"
   ]
  },
  {
   "cell_type": "markdown",
   "metadata": {},
   "source": [
    "### 튜플의 불변성(Immutability)\n",
    "튜플은 객체의 내용을 변경할 수 없습니다."
   ]
  },
  {
   "cell_type": "code",
   "execution_count": 13,
   "metadata": {},
   "outputs": [
    {
     "ename": "TypeError",
     "evalue": "'tuple' object does not support item assignment",
     "output_type": "error",
     "traceback": [
      "\u001b[1;31m---------------------------------------------------------------------------\u001b[0m",
      "\u001b[1;31mTypeError\u001b[0m                                 Traceback (most recent call last)",
      "Cell \u001b[1;32mIn[13], line 1\u001b[0m\n\u001b[1;32m----> 1\u001b[0m t[\u001b[38;5;241m0\u001b[39m] \u001b[38;5;241m=\u001b[39m \u001b[38;5;241m456\u001b[39m\n",
      "\u001b[1;31mTypeError\u001b[0m: 'tuple' object does not support item assignment"
     ]
    }
   ],
   "source": [
    "t[0] = 456\n",
    "\n",
    "#당연히 list의 append 같은 객체를 변경하는 메써드들도 가지고 있지 않습니다."
   ]
  },
  {
   "cell_type": "markdown",
   "metadata": {},
   "source": [
    "튜플은 리스트보다 메모리를 적게 사용합니다."
   ]
  },
  {
   "cell_type": "code",
   "execution_count": 15,
   "metadata": {},
   "outputs": [
    {
     "name": "stdout",
     "output_type": "stream",
     "text": [
      "리스트 객체의 크기 120\n",
      "튜플 객체의 크기 72\n"
     ]
    },
    {
     "ename": "",
     "evalue": "",
     "output_type": "error",
     "traceback": [
      "\u001b[1;31mThe Kernel crashed while executing code in the the current cell or a previous cell. Please review the code in the cell(s) to identify a possible cause of the failure. Click <a href='https://aka.ms/vscodeJupyterKernelCrash'>here</a> for more info. View Jupyter <a href='command:jupyter.viewOutput'>log</a> for further details."
     ]
    }
   ],
   "source": [
    "l = [\"사과\", \"바나나\", \"오렌지\", 3.14]\n",
    "t = tuple(l)\n",
    "\n",
    "import sys\n",
    "\n",
    "print(\"리스트 객체의 크기\", sys.getsizeof(l))\n",
    "print(\"튜플 객체의 크기\", sys.getsizeof(t))\n"
   ]
  },
  {
   "cell_type": "markdown",
   "metadata": {},
   "source": [
    "반면에 튜플은 리스트보다 메모리를 적게 차지하고 처리 속도가 빠릅니다. 아이템 추가/삭제가 불가능하다는 점에서 사용이 불편해보일 수도 있지만 리스트의 가변성이 예기치 못한 실수나 **문맥** 오류로 이어질 수도 있기 때문에 튜플이 오히려 더 중요하게 사용되는 경우도 많습니다."
   ]
  },
  {
   "cell_type": "markdown",
   "metadata": {},
   "source": [
    "# [시퀀스](https://docs.python.org/ko/3/library/stdtypes.html#typesseq) (Sequence)\n",
    "\n",
    "문자열(str), 리스트(list), 튜플(tuple), 범위(range) 등이 시퀀스 자료형으로 분류됩니다. 아래 연산들은 모든 시퀀스 객체에서 사용할 수 있습니다. 시퀀스가 아이템들이 나열된 구조라는 것과 연관지으면 직관적으로 이해할 수 있습니다."
   ]
  },
  {
   "cell_type": "code",
   "execution_count": null,
   "metadata": {},
   "outputs": [],
   "source": [
    "t = (1, 2, 3, 4, 5)\n",
    "\n",
    "# 1이 t에 포함되어 있는지를 True/False로 알려줍니다.\n",
    "1 in t"
   ]
  },
  {
   "cell_type": "code",
   "execution_count": null,
   "metadata": {},
   "outputs": [],
   "source": [
    "t = (1, 2, 3, 4, 5)\n",
    "\n",
    "# 1이 t에 포함되어 있지 '않은지'를 True/False로 알려줍니다.\n",
    "1 not in t"
   ]
  },
  {
   "cell_type": "code",
   "execution_count": null,
   "metadata": {},
   "outputs": [],
   "source": [
    "t = (1, 2, 3, 4, 5)\n",
    "s = (6, 7, 8, 9, 10)\n",
    "\n",
    "# +로 합칠 수 있습니다.\n",
    "t + s"
   ]
  },
  {
   "cell_type": "code",
   "execution_count": null,
   "metadata": {},
   "outputs": [],
   "source": [
    "t = (1, 2, 3, 4, 5)\n",
    "\n",
    "# 인덱싱과 슬라이딩을 사용할 수 있습니다.\n",
    "t[0]\n",
    "t[1:3]"
   ]
  },
  {
   "cell_type": "code",
   "execution_count": null,
   "metadata": {},
   "outputs": [],
   "source": [
    "t = (1, 2, 3, 4, 5)\n",
    "\n",
    "# 아이템의 개수를 확인할 수 있습니다.\n",
    "len(t)"
   ]
  },
  {
   "cell_type": "code",
   "execution_count": null,
   "metadata": {},
   "outputs": [],
   "source": [
    "t = (1, 2, 3, 4, 5)\n",
    "\n",
    "# 가장 큰 아이템을 찾아줍니다. 아이템들이 문자열인 경우에도 사용해보세요.\n",
    "max(t)"
   ]
  },
  {
   "cell_type": "code",
   "execution_count": null,
   "metadata": {},
   "outputs": [],
   "source": [
    "l = [1, 2, 3, 4, 5]\n",
    "\n",
    "# 가장 작은 아이템을 찾아줍니다. 아이템들이 문자열인 경우에도 사용해보세요.\n",
    "min(t)"
   ]
  },
  {
   "cell_type": "code",
   "execution_count": null,
   "metadata": {},
   "outputs": [],
   "source": [
    "t = (\"A\", \"B\", \"C\", \"D\", \"E\")\n",
    "\n",
    "# \"D\"가 들어있는 위치 인덱스를 알려줍니다.\n",
    "t.index(\"D\")"
   ]
  },
  {
   "cell_type": "code",
   "execution_count": null,
   "metadata": {},
   "outputs": [],
   "source": [
    "t = (1, 2, 3, 3, 3, 3, 3, 4, 5)\n",
    "\n",
    "# 3이 몇 개 들어있는지를 알려줍니다.\n",
    "t.count(3)\n",
    "\n",
    "# [참고] 뒤에 배울 set()은 같은 원소를 여러개 포함할 수 없습니다."
   ]
  },
  {
   "cell_type": "markdown",
   "metadata": {},
   "source": [
    "range()는 for문과 함께 사용되는 경우가 많습니다.\n"
   ]
  },
  {
   "cell_type": "code",
   "execution_count": null,
   "metadata": {},
   "outputs": [],
   "source": [
    "l = []\n",
    "for i in range(0, 11, 2):  # (start, stop, step)은 슬라이싱과 동일\n",
    "    l.append(i)\n",
    "# l의 아이템들을 추측해보세요."
   ]
  }
 ],
 "metadata": {
  "interpreter": {
   "hash": "d187a48a8a4b28f37103ceb7e85bceb2b63d70db7314890fe18e7e16ec425e3f"
  },
  "kernelspec": {
   "display_name": "Python 3.9.7 64-bit ('base': conda)",
   "language": "python",
   "name": "python3"
  },
  "language_info": {
   "codemirror_mode": {
    "name": "ipython",
    "version": 3
   },
   "file_extension": ".py",
   "mimetype": "text/x-python",
   "name": "python",
   "nbconvert_exporter": "python",
   "pygments_lexer": "ipython3",
   "version": "3.9.5"
  },
  "orig_nbformat": 4
 },
 "nbformat": 4,
 "nbformat_minor": 2
}
