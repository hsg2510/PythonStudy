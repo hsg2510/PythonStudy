{
 "cells": [
  {
   "cell_type": "markdown",
   "metadata": {},
   "source": [
    "# [사전](https://docs.python.org/ko/3/library/stdtypes.html#typesmapping)([Dictionary](https://docs.python.org/3/library/stdtypes.html#typesmapping))\n",
    "\n",
    "|이름|type|예시|가변성|순서유지|중복허용|\n",
    "|---|---|---|---|---|---|\n",
    "|리스트|list|```[\"사과\", 123, 3.14]```|가변|O|O|\n",
    "|튜플|tuple|```(\"사과\", 123, 3.14)```|불변|O|O|\n",
    "|집합|set|```{\"사과\", 123, 3.14}```|가변|X|X|\n",
    "|사전|dict|```{\"원주율\":3.14, 123:\"일이삼\"}```|가변|3.6+|키X값O|\n",
    "\n",
    "지금까지 배운 컨테이너들은 객체들이 나열되어 있는 형태였습니다. 사전(dict) 자료형은 두 객체가 키(key)와 값(value)으로 짝지어져서 나열되어 있는 형태입니다.\n",
    "\n",
    "리스트나 튜플이 시퀀스로 분류가 되듯이 사전은 '매핑(mapping)' 자료형으로 분류됩니다. 여기서 매핑은 지도가 아니라 [일대일대응](https://terms.naver.com/entry.naver?docId=1136542&cid=40942&categoryId=32204) 같은 수학의 '[사상](https://terms.naver.com/entry.naver?docId=1107487&cid=40942&categoryId=32219)'을 의미합니다. 현재 파이썬에는 매핑으로 분류되는 기본 자료형은 사전 한 가지 뿐입니다. \n",
    "\n",
    "파이썬 3.6부터 키(key)에 대해 순서유지(order preserving)가 추가되었습니다. 여기서는 3.6 이상을 기준으로 설명합니다."
   ]
  },
  {
   "cell_type": "markdown",
   "metadata": {},
   "source": [
    "### 사전(Dict)을 만드는 방법\n",
    "\n",
    "중괄호(물결괄호```{}```)와 컴마(```,```)를 사용하는데 이때 키(key)와 값(value)을 콜론(```:```)을 이용해서 짝을 지어줍니다. 코드 스타일링은 포매터에게 맡기는게 편합니다."
   ]
  },
  {
   "cell_type": "code",
   "execution_count": null,
   "metadata": {},
   "outputs": [],
   "source": [
    "d = {}  # 비어있는 물결괄호는 집합이 아니라 사전입니다.\n",
    "d = dict()\n",
    "d = {\n",
    "    \"바나나\": \"외떡잎식물 생강목 파초과 바나나속에 속하는 식물의 총칭.\",\n",
    "    \"아이언맨\": \"여심을 사로잡는 매력적인 미소의 백만장자 플레이보이 토니 스타크(Tony Stark).\",\n",
    "    123: 456,  # 마지막 컴마는 무시합니다. 새로 아이템을 추가할 일이 많다면 남겨두는게 편합니다.\n",
    "}"
   ]
  },
  {
   "cell_type": "markdown",
   "metadata": {},
   "source": [
    "더 다양한 방식으로 dict를 만들 수 있습니다."
   ]
  },
  {
   "cell_type": "code",
   "execution_count": 2,
   "metadata": {},
   "outputs": [
    {
     "name": "stdout",
     "output_type": "stream",
     "text": [
      "{'two': 2, 'one': 1, 'three': 3}\n",
      "{'one': 1, 'two': 2, 'three': 3}\n"
     ]
    }
   ],
   "source": [
    "# 모두 같은 dict를 만듭니다.\n",
    "d1 = {\"one\": 1, \"two\": 2, \"three\": 3}\n",
    "d2 = dict({\"three\": 3, \"one\": 1, \"two\": 2})\n",
    "d3 = dict({\"one\": 1, \"three\": 3}, two=2)\n",
    "d4 = dict(one=1, two=2, three=3)\n",
    "\n",
    "# 튜플의 리스트\n",
    "d5 = dict([(\"two\", 2), (\"one\", 1), (\"three\", 3)])  \n",
    "print(d5)\n",
    "\n",
    "# zip의 기능을 추측해보세요.\n",
    "d6 = dict(zip([\"one\", \"two\", \"three\"], [1, 2, 3]))\n",
    "print(d6)"
   ]
  },
  {
   "cell_type": "markdown",
   "metadata": {},
   "source": [
    "[해설] 여기서 zip은 서로 다른 두 리스트로부터 아이템들을 하나씩 순서대로 가져와서 튜플로 묶어줍니다. 예를 들면 \"one\"과 1을 묶어서 (\"one\", 1)로 만들고 그 다음에는 \"two\"와 2를 묶어서 (\"two\", 2)를 만듭니다. zip의 결과를 (dict가 아니라) list로 만들면 튜플의 list가 됩니다."
   ]
  },
  {
   "cell_type": "code",
   "execution_count": 3,
   "metadata": {},
   "outputs": [
    {
     "data": {
      "text/plain": [
       "[('one', 1), ('two', 2), ('three', 3)]"
      ]
     },
     "execution_count": 3,
     "metadata": {},
     "output_type": "execute_result"
    }
   ],
   "source": [
    "# zip의 결과를 리스트로 만들면 튜플의 리스트가 됩니다.\n",
    "list(zip([\"one\", \"two\", \"three\"], [1, 2, 3]))"
   ]
  },
  {
   "cell_type": "markdown",
   "metadata": {},
   "source": [
    "키가 중복될 경우에는 마지막 하나만 남습니다. 집합에서 아이템의 중복을 허용하지 않은 것과 비슷합니다."
   ]
  },
  {
   "cell_type": "code",
   "execution_count": 6,
   "metadata": {},
   "outputs": [
    {
     "data": {
      "text/plain": [
       "{'캡틴': '아메리카'}"
      ]
     },
     "execution_count": 6,
     "metadata": {},
     "output_type": "execute_result"
    }
   ],
   "source": [
    "d = {\n",
    "    \"캡틴\": \"Captain\",\n",
    "    \"캡틴\": \"아메리카\"\n",
    "}\n",
    "d"
   ]
  },
  {
   "cell_type": "markdown",
   "metadata": {},
   "source": [
    "키에는 불변 객체만 사용할 수 있습니다. 키가 변경되면 찾을 수가 없기 때문입니다. 리스트 같은 가변 객체에서 의도치 않게 아이템이 변경되는 경우는 리스트에서 다루었습니다."
   ]
  },
  {
   "cell_type": "code",
   "execution_count": 7,
   "metadata": {},
   "outputs": [
    {
     "data": {
      "text/plain": [
       "{('캡틴아메리카', '아이언맨'): '시빌워'}"
      ]
     },
     "execution_count": 7,
     "metadata": {},
     "output_type": "execute_result"
    }
   ],
   "source": [
    "# 튜플을 키로 사용 가능\n",
    "d = {(\"캡틴아메리카\", \"아이언맨\"): \"시빌워\"}"
   ]
  },
  {
   "cell_type": "code",
   "execution_count": 8,
   "metadata": {},
   "outputs": [
    {
     "ename": "TypeError",
     "evalue": "unhashable type: 'list'",
     "output_type": "error",
     "traceback": [
      "\u001b[1;31m---------------------------------------------------------------------------\u001b[0m",
      "\u001b[1;31mTypeError\u001b[0m                                 Traceback (most recent call last)",
      "Cell \u001b[1;32mIn[8], line 2\u001b[0m\n\u001b[0;32m      1\u001b[0m \u001b[38;5;66;03m# 리스트를 키로 사용 불가능\u001b[39;00m\n\u001b[1;32m----> 2\u001b[0m d \u001b[38;5;241m=\u001b[39m {[\u001b[38;5;124m\"\u001b[39m\u001b[38;5;124m캡틴아메리카\u001b[39m\u001b[38;5;124m\"\u001b[39m, \u001b[38;5;124m\"\u001b[39m\u001b[38;5;124m아이언맨\u001b[39m\u001b[38;5;124m\"\u001b[39m]: \u001b[38;5;124m\"\u001b[39m\u001b[38;5;124m시빌워\u001b[39m\u001b[38;5;124m\"\u001b[39m}\n",
      "\u001b[1;31mTypeError\u001b[0m: unhashable type: 'list'"
     ]
    }
   ],
   "source": [
    "# 리스트를 키로 사용 불가능\n",
    "d = {[\"캡틴아메리카\", \"아이언맨\"]: \"시빌워\"}"
   ]
  },
  {
   "cell_type": "code",
   "execution_count": null,
   "metadata": {},
   "outputs": [],
   "source": [
    "# 값에 리스트를 사용하는 것은 가능\n"
   ]
  },
  {
   "cell_type": "markdown",
   "metadata": {},
   "source": [
    "### 사전(dict)의 사용 방법"
   ]
  },
  {
   "cell_type": "markdown",
   "metadata": {},
   "source": [
    "대괄호(bracket) 안에 키(key)를 넣어서 값(value)를 찾을 수 있습니다. "
   ]
  },
  {
   "cell_type": "code",
   "execution_count": 10,
   "metadata": {},
   "outputs": [],
   "source": [
    "d = {\n",
    "    \"A\": 65,\n",
    "    \"B\": 66,\n",
    "    \"C\": 67,\n",
    "}"
   ]
  },
  {
   "cell_type": "markdown",
   "metadata": {},
   "source": [
    "키에 문자열을 사용할 경우 당연히 대소문자를 구분합니다. 키를 찾지 못할 경우 에러가 발생합니다."
   ]
  },
  {
   "cell_type": "code",
   "execution_count": 11,
   "metadata": {},
   "outputs": [
    {
     "ename": "KeyError",
     "evalue": "'b'",
     "output_type": "error",
     "traceback": [
      "\u001b[1;31m---------------------------------------------------------------------------\u001b[0m",
      "\u001b[1;31mKeyError\u001b[0m                                  Traceback (most recent call last)",
      "Cell \u001b[1;32mIn[11], line 1\u001b[0m\n\u001b[1;32m----> 1\u001b[0m \u001b[43md\u001b[49m\u001b[43m[\u001b[49m\u001b[38;5;124;43m\"\u001b[39;49m\u001b[38;5;124;43mb\u001b[39;49m\u001b[38;5;124;43m\"\u001b[39;49m\u001b[43m]\u001b[49m\n",
      "\u001b[1;31mKeyError\u001b[0m: 'b'"
     ]
    }
   ],
   "source": [
    "d[\"b\"]"
   ]
  },
  {
   "cell_type": "markdown",
   "metadata": {},
   "source": [
    "만약 사전에 들어있는지 아닌지 예상할 수 없는 키에 대해서 사전을 찾아봐야할 일이 있다면 ```get()``` 메써드를 사용할 수 있습니다. 키가 존재하지 않을 경우에는 에러를 발생시키는 대신에 ```None```을 줍니다. "
   ]
  },
  {
   "cell_type": "code",
   "execution_count": 15,
   "metadata": {},
   "outputs": [
    {
     "name": "stdout",
     "output_type": "stream",
     "text": [
      "None\n",
      "키 없어\n",
      "키가 존재하지 않아요.\n",
      "The ky doesn't exist in the dict.\n"
     ]
    }
   ],
   "source": [
    "d = {\n",
    "    \"A\": 65,\n",
    "    \"B\": 66,\n",
    "    \"C\": 67,\n",
    "}\n",
    "\n",
    "# get()을 이용해서 존재하지 않는 key에 대한 value를 요청하면\n",
    "# 에러 없이 None을 줍니다.\n",
    "print(d.get(\"b\"))\n",
    "\n",
    "# if문과 함께 사용해서 키가 존재하지 않는 경우에 대응\n",
    "if (d.get(\"b\") == None):\n",
    "    print(\"키 없어\")\n",
    "\n",
    "# 키가 존재하지 않는 경우 기본값을 반환하도록 설정 가능\n",
    "e = d.get(\"b\", \"키가 존재하지 않아요.\")\n",
    "print(e)\n",
    "\n",
    "# 멤버쉽 연산자를 사용해서 에러를 피하는 방법도 있어요.\n",
    "if \"b\" in d:\n",
    "    print(\"The value is\", d[\"b\"])\n",
    "else:\n",
    "    print(\"The ky doesn't exist in the dict.\")"
   ]
  },
  {
   "cell_type": "markdown",
   "metadata": {},
   "source": [
    "현재 존재하지 않는 키라도 새로운 키:값 쌍을 새로 만들어서 넣을 수는 있습니다."
   ]
  },
  {
   "cell_type": "code",
   "execution_count": 16,
   "metadata": {},
   "outputs": [
    {
     "data": {
      "text/plain": [
       "{'A': 65, 'B': 66, 'C': 67, 'b': 98, 'a': 97}"
      ]
     },
     "execution_count": 16,
     "metadata": {},
     "output_type": "execute_result"
    }
   ],
   "source": [
    "# 넣은 순서가 유지된다. 늦게 넣은 놈들이 뒤에온다.\n",
    "d[\"b\"] = 98\n",
    "d[\"a\"] = 97\n",
    "d"
   ]
  },
  {
   "cell_type": "markdown",
   "metadata": {},
   "source": [
    "키에 float를 사용하는 것은 권장하지 않습니다."
   ]
  },
  {
   "cell_type": "code",
   "execution_count": 20,
   "metadata": {},
   "outputs": [
    {
     "name": "stdout",
     "output_type": "stream",
     "text": [
      "{1: '일점영'}\n"
     ]
    },
    {
     "ename": "KeyError",
     "evalue": "0.01",
     "output_type": "error",
     "traceback": [
      "\u001b[1;31m---------------------------------------------------------------------------\u001b[0m",
      "\u001b[1;31mKeyError\u001b[0m                                  Traceback (most recent call last)",
      "Cell \u001b[1;32mIn[20], line 7\u001b[0m\n\u001b[0;32m      5\u001b[0m \u001b[38;5;66;03m# 정밀도 문제로 키를 찾지 못할 수도 있습니다.\u001b[39;00m\n\u001b[0;32m      6\u001b[0m d \u001b[38;5;241m=\u001b[39m {\u001b[38;5;241m0.1\u001b[39m \u001b[38;5;241m*\u001b[39m \u001b[38;5;241m0.1\u001b[39m : \u001b[38;5;124m\"\u001b[39m\u001b[38;5;124m일일일일\u001b[39m\u001b[38;5;124m\"\u001b[39m}\n\u001b[1;32m----> 7\u001b[0m \u001b[38;5;28mprint\u001b[39m(\u001b[43md\u001b[49m\u001b[43m[\u001b[49m\u001b[38;5;241;43m0.01\u001b[39;49m\u001b[43m]\u001b[49m)\n",
      "\u001b[1;31mKeyError\u001b[0m: 0.01"
     ]
    }
   ],
   "source": [
    "# 1과 1.0을 구분하지 않습니다.\n",
    "d = {1: \"일\", 1.0: \"일점영\"}\n",
    "print(d)\n",
    "\n",
    "# 정밀도 문제로 키를 찾지 못할 수도 있습니다.\n",
    "d = {0.1 * 0.1 : \"일일일일\"}\n",
    "print(d[0.01])"
   ]
  },
  {
   "cell_type": "markdown",
   "metadata": {},
   "source": [
    "불변 컨테이너를 키로 사용할 수 있습니다."
   ]
  },
  {
   "cell_type": "code",
   "execution_count": 22,
   "metadata": {},
   "outputs": [
    {
     "data": {
      "text/plain": [
       "'시빌워'"
      ]
     },
     "execution_count": 22,
     "metadata": {},
     "output_type": "execute_result"
    }
   ],
   "source": [
    "# 튜플을 키로 사용할 경우 괄호 생략 가능\n",
    "d = {(\"캡틴아메리카\", \"아이언맨\"): \"시빌워\"}\n",
    "d[\"캡틴아메리카\", \"아이언맨\"]"
   ]
  },
  {
   "cell_type": "markdown",
   "metadata": {},
   "source": [
    "dict안에 dict를 값으로 넣을 수 있습니다."
   ]
  },
  {
   "cell_type": "code",
   "execution_count": 24,
   "metadata": {},
   "outputs": [
    {
     "data": {
      "text/plain": [
       "'value'"
      ]
     },
     "execution_count": 24,
     "metadata": {},
     "output_type": "execute_result"
    }
   ],
   "source": [
    "d = {\"key1\": {\"key2\": {\"key3\": \"value\"}}}\n",
    "d[\"key1\"][\"key2\"][\"key3\"]"
   ]
  },
  {
   "cell_type": "markdown",
   "metadata": {},
   "source": [
    "```del``` 키워드를 이용해서 키:값 쌍을 삭제할 수 있습니다. ```pop()```과는 달리 삭제된 값을 다시 변수에 넣을 수는 없고 그냥 삭제만 합니다."
   ]
  },
  {
   "cell_type": "code",
   "execution_count": 27,
   "metadata": {},
   "outputs": [
    {
     "name": "stdout",
     "output_type": "stream",
     "text": [
      "66\n",
      "{}\n"
     ]
    }
   ],
   "source": [
    "my_dict = {\"A\": 65, \"B\": 66, \"C\": 67, \"D\": 68}\n",
    "del my_dict[\"A\"]\n",
    "\n",
    "print(my_dict.pop(\"B\"))\n",
    "\n",
    "# 모두 지우고 싶을 때는 clear()도 사용할 수 있습니다.\n",
    "my_dict.clear()\n",
    "print(my_dict)"
   ]
  },
  {
   "cell_type": "markdown",
   "metadata": {},
   "source": [
    "리스트에도 ```del```을 사용할 수 있습니다."
   ]
  },
  {
   "cell_type": "code",
   "execution_count": 28,
   "metadata": {},
   "outputs": [
    {
     "data": {
      "text/plain": [
       "['A', 'D', 'E']"
      ]
     },
     "execution_count": 28,
     "metadata": {},
     "output_type": "execute_result"
    }
   ],
   "source": [
    "my_list = [\"A\", \"B\", \"C\", \"D\", \"E\"]\n",
    "del my_list[1:3] #슬라이스도 사용가능\n",
    "my_list"
   ]
  },
  {
   "cell_type": "markdown",
   "metadata": {},
   "source": [
    "```del```로 아예 변수를 지워버릴 수도 있습니다."
   ]
  },
  {
   "cell_type": "code",
   "execution_count": 30,
   "metadata": {},
   "outputs": [
    {
     "ename": "NameError",
     "evalue": "name 'to_be_deleted' is not defined",
     "output_type": "error",
     "traceback": [
      "\u001b[1;31m---------------------------------------------------------------------------\u001b[0m",
      "\u001b[1;31mNameError\u001b[0m                                 Traceback (most recent call last)",
      "Cell \u001b[1;32mIn[30], line 3\u001b[0m\n\u001b[0;32m      1\u001b[0m to_be_deleted \u001b[38;5;241m=\u001b[39m {\u001b[38;5;124m\"\u001b[39m\u001b[38;5;124mA\u001b[39m\u001b[38;5;124m\"\u001b[39m: \u001b[38;5;241m65\u001b[39m, \u001b[38;5;124m\"\u001b[39m\u001b[38;5;124mB\u001b[39m\u001b[38;5;124m\"\u001b[39m: \u001b[38;5;241m66\u001b[39m, \u001b[38;5;124m\"\u001b[39m\u001b[38;5;124mC\u001b[39m\u001b[38;5;124m\"\u001b[39m: \u001b[38;5;241m67\u001b[39m, \u001b[38;5;124m\"\u001b[39m\u001b[38;5;124mD\u001b[39m\u001b[38;5;124m\"\u001b[39m: \u001b[38;5;241m68\u001b[39m}\n\u001b[0;32m      2\u001b[0m \u001b[38;5;28;01mdel\u001b[39;00m to_be_deleted\n\u001b[1;32m----> 3\u001b[0m \u001b[38;5;28mprint\u001b[39m(\u001b[43mto_be_deleted\u001b[49m)\n",
      "\u001b[1;31mNameError\u001b[0m: name 'to_be_deleted' is not defined"
     ]
    }
   ],
   "source": [
    "to_be_deleted = {\"A\": 65, \"B\": 66, \"C\": 67, \"D\": 68}\n",
    "del to_be_deleted\n",
    "#print(to_be_deleted) 에러 발생\n",
    "#[참고] del`로 변수를 삭제하는 것은 부득이한 경우에만 사용해야 합니다. 지워야할 변수라면 애초에 영역을 제한하는 것이 바람직하다.\n"
   ]
  },
  {
   "cell_type": "markdown",
   "metadata": {},
   "source": [
    "사전의 아이템은 키와 값의 쌍이라는 점에서 다른 컨테이너들과 용법이 약간 다릅니다."
   ]
  },
  {
   "cell_type": "code",
   "execution_count": 2,
   "metadata": {},
   "outputs": [
    {
     "name": "stdout",
     "output_type": "stream",
     "text": [
      "['A', 'B', 'C', 'D']\n"
     ]
    }
   ],
   "source": [
    "alphabets = {\"A\": 65, \"B\": 66, \"C\": 67, \"D\": 68}\n",
    "\n",
    "#dict를 list로 바꾸면 key만 남는다.\n",
    "print(list(alphabets))"
   ]
  },
  {
   "cell_type": "markdown",
   "metadata": {},
   "source": [
    "```len()```과 ```in```도 키(key)를 기준으로 작동합니다."
   ]
  },
  {
   "cell_type": "code",
   "execution_count": 3,
   "metadata": {},
   "outputs": [
    {
     "name": "stdout",
     "output_type": "stream",
     "text": [
      "4\n"
     ]
    },
    {
     "data": {
      "text/plain": [
       "True"
      ]
     },
     "execution_count": 3,
     "metadata": {},
     "output_type": "execute_result"
    }
   ],
   "source": [
    "print(len(alphabets))\n",
    "\"A\" in alphabets"
   ]
  },
  {
   "cell_type": "markdown",
   "metadata": {},
   "source": [
    "```keys()``` 메써드와 ```values()``` 메써드를 이용해서 각각 키와 값의 리스트를 만들 수 있습니다."
   ]
  },
  {
   "cell_type": "code",
   "execution_count": 5,
   "metadata": {},
   "outputs": [
    {
     "name": "stdout",
     "output_type": "stream",
     "text": [
      "{'E': 'Eating', 'A': 65, 'B': 66, 'C': 67, 'D': 68}\n",
      "[('E', 'Eating'), ('A', 65), ('B', 66), ('C', 67), ('D', 68)]\n",
      "('E', 'Eating')\n",
      "('A', 65)\n",
      "('B', 66)\n",
      "('C', 67)\n",
      "('D', 68)\n",
      "key: E, value: Eating\n",
      "key: A, value: 65\n",
      "key: B, value: 66\n",
      "key: C, value: 67\n",
      "key: D, value: 68\n",
      "A => 65\n",
      "B => 66\n",
      "C => 67\n",
      "D => 68\n",
      "E => Eating\n"
     ]
    }
   ],
   "source": [
    "# keys() 메써드와 values() 메써드를 이용해서 각각 키와 값의 리스트를 만들 수 있다.\n",
    "key_list = list(alphabets.keys())\n",
    "value_list = list(alphabets.values())\n",
    "#키 리스트와 값 리스트를 zip으로 묶으면 다시 원래 dict가 됩니다.\n",
    "print(dict(zip(key_list, value_list)))\n",
    "\n",
    "#items() 메써드를 이용해서 (키, 값) 튜플의 리스트를 만들 수 있다.\n",
    "print(list(alphabets.items()))\n",
    "\n",
    "#items()는 반복문과 함께 사용하기 편하다.\n",
    "for letter in alphabets.items():\n",
    "    print(letter)\n",
    "\n",
    "for key, value in alphabets.items():\n",
    "    print(f\"key: {key}, value: {value}\")\n",
    "\n",
    "# 만약 정렬된 순서로 iterate하고 싶다면 sorted()를 사용할 수 있습니다.\n",
    "alphabets = {\"E\": \"Eating\", \"A\": 65, \"B\": 66, \"C\": 67, \"D\": 68}\n",
    "\n",
    "for key in sorted(alphabets):\n",
    "    print(f\"{key} => {alphabets[key]}\")"
   ]
  },
  {
   "cell_type": "markdown",
   "metadata": {},
   "source": [
    "[참고] 뒤에서 배우게 되는 ```map()``` 함수는 자료형이 아니라 함수라서 기능이 다릅니다.  \n",
    "[참고] set과 dict는 내부적으로 해쉬(hash)라는 자료구조(data structure)를 사용합니다. 암호화폐에서 사용한다고 하는 해쉬와 같은 기술입니다. 보통 자료구조 과목에서 자세히 배웁니다.\n"
   ]
  }
 ],
 "metadata": {
  "kernelspec": {
   "display_name": "3.10.13",
   "language": "python",
   "name": "python3"
  },
  "language_info": {
   "codemirror_mode": {
    "name": "ipython",
    "version": 3
   },
   "file_extension": ".py",
   "mimetype": "text/x-python",
   "name": "python",
   "nbconvert_exporter": "python",
   "pygments_lexer": "ipython3",
   "version": "3.10.13"
  },
  "orig_nbformat": 4
 },
 "nbformat": 4,
 "nbformat_minor": 2
}
