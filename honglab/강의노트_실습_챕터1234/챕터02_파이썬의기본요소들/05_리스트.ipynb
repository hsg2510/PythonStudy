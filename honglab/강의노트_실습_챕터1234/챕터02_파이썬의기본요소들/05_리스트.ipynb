{
 "cells": [
  {
   "cell_type": "markdown",
   "metadata": {},
   "source": [
    "# 파이썬 컨테이너(Containers)\n",
    "\n",
    "파이썬에서는 다른 객체들을 여러 개 담을 수 있는 자료형들도 제공합니다. 기본적으로는 리스트(list), 사전(dict), 집합(set), 튜플(tuple) 등이 제공됩니다. [collections 모듈](https://docs.python.org/ko/3/library/collections.html)을 통해서 더 많은 종류의 컨테이너 자료형들을 사용할 수 있습니다.\n",
    "\n",
    "### 기본 컨테이터 자료형들 정리\n",
    "\n",
    "|이름|type|예시|가변성|순서유지|중복허용|\n",
    "|---|---|---|---|---|---|\n",
    "|리스트|list|```[\"사과\", 123, 3.14]```|가변|O|O|\n",
    "|튜플|tuple|```(\"사과\", 123, 3.14)```|불변|O|O|\n",
    "|집합|set|```{\"사과\", 123, 3.14}```|가변|X|X|\n",
    "|사전|dict|```{\"원주율\":3.14, 123:\"일이삼\"}```|가변|3.6+|키X값O|"
   ]
  },
  {
   "cell_type": "markdown",
   "metadata": {},
   "source": [
    "# [리스트](https://docs.python.org/ko/3/tutorial/introduction.html#lists) 사용법 ([List](https://docs.python.org/3/tutorial/introduction.html#lists))\n",
    "\n",
    "### 리스트를 만드는 방법\n",
    "리스트는 대괄호(square brackets [])으로 만들어지고 컴마(comma ,) 기호를 이용해서 아이템(item)을 구분합니다."
   ]
  },
  {
   "cell_type": "code",
   "execution_count": 1,
   "metadata": {},
   "outputs": [
    {
     "name": "stdout",
     "output_type": "stream",
     "text": [
      "[101, 102, 103, 104, 105, 106, 107, 108, 109, 110]\n"
     ]
    }
   ],
   "source": [
    "my_list = []  # 비어있는 리스트\n",
    "my_list = [1, 2, 3, 4, 5]  # 아이템 나열\n",
    "my_list = [\"A string\", 23, 100.232, \"o\"]  # 다양한 자료형의 객체들을 담을 수 있어요\n",
    "my_list = [x + 100 for x in range(1, 11)]  # 아이템들의 조건을 기술\n",
    "len(my_list)\n",
    "print(my_list)"
   ]
  },
  {
   "cell_type": "markdown",
   "metadata": {},
   "source": [
    "### 리스트는 가변(Mutable)\n",
    "\n",
    "리스트는 문자열과 달리 가변(mutable) 자료형입니다."
   ]
  },
  {
   "cell_type": "code",
   "execution_count": 2,
   "metadata": {},
   "outputs": [
    {
     "name": "stdout",
     "output_type": "stream",
     "text": [
      "4397218944 [101, 102, 103, 104, 105, 106, 107, 108, 109, 110]\n",
      "4397218944 ['하나 아이템', 102, 103, 104, 105, 106, 107, 108, 109, 110]\n",
      "[0, 'A', 'B', 'C', 3, 4, 5, 6]\n",
      "[0, 'A', 'B', 'C', 3, 4, 5, 6, '추가된 아이템']\n",
      "[0, 'A', 'B', 'C', 3, 4, 5, 6]\n",
      "4397495808\n",
      "4397218944\n",
      "4397218944\n",
      "4397218944\n",
      "4397218944\n",
      "[0, 'A', 'B', 'C', 3, 4, 5, 6, '추가된 아이템', '추가된 아이템', 0, 'A', 'B', 'C', 3, 4, 5, 6, '추가된 아이템', '추가된 아이템']\n",
      "4397489344\n",
      "4397489344\n",
      "[0, 'A', 'B', 'C', 3, 4, 5, 6, '추가된 아이템', '추가된 아이템', 0, 'A', 'B', 'C', 3, 4, 5, 6, '추가된 아이템', '추가된 아이템', 0, 'A', 'B', 'C', 3, 4, 5, 6, '추가된 아이템', '추가된 아이템', 0, 'A', 'B', 'C', 3, 4, 5, 6, '추가된 아이템', '추가된 아이템']\n",
      "4397489344\n"
     ]
    }
   ],
   "source": [
    "# 슬라이싱 규칙은 문자열과 같아요\n",
    "my_list[1:] \n",
    "\n",
    "# 리스트는 가변(mutable) 자료형\n",
    "print(id(my_list), my_list)\n",
    "my_list[0] = \"하나 아이템\"\n",
    "print(id(my_list), my_list)\n",
    "\n",
    "# 슬라이싱으로도 대입이 가능해요\n",
    "my_list = [0, 1, 2, 3, 4, 5, 6]\n",
    "my_list[1:3] = [\"A\", \"B\", \"C\"] # 1, 2 대신 3개의 아이템 \"A\", \"B\", \"C\"를 넣음\n",
    "print(my_list)\n",
    "\n",
    "# 더하기 연산자로 아이템 추가 (주의: 리스트 끼리만 연산)\n",
    "print(my_list + [\"추가된 아이템\"])\n",
    "# 원래 리스트에는 변화가 없음\n",
    "print(my_list)\n",
    "\n",
    "# 리스트간의 더하기 후 대입\n",
    "print(id(my_list))\n",
    "my_list = my_list + [\"추가된 아이템\"] # 기존 2개의 array를 합친 새로운 array를 만들겠다는 의미.\n",
    "print(id(my_list)) # id가 달라짐. \n",
    "# += 연산자 사용\n",
    "print(id(my_list))\n",
    "my_list += [\"추가된 아이템\"] # 기존 array에 단순히 다른 array를 append 하겠다는 의도로 파악.\n",
    "print(id(my_list)) # id가 달라지지 않음\n",
    "\n",
    "# 리스트와 정수의 곱하기\n",
    "print(id(my_list))\n",
    "my_list = my_list * 2 #리스트가 2배로 늘어남\n",
    "print(my_list)\n",
    "print(id(my_list)) #id가 달라짐\n",
    "# *= 연산자 사용\n",
    "print(id(my_list))\n",
    "my_list *= 2 \n",
    "print(my_list)\n",
    "print(id(my_list)) #id가 달라지지 않음\n",
    "\n"
   ]
  },
  {
   "cell_type": "markdown",
   "metadata": {},
   "source": [
    "### 기본적인 메써드\n",
    "문자열은 변경을 하려면 새로운 객체를 만들어야 했습니다.  \n",
    "리스트는 가변 자료형이기 때문에 객체를 유지한 채로 내용을 바꿀 수 있어요."
   ]
  },
  {
   "cell_type": "code",
   "execution_count": 17,
   "metadata": {},
   "outputs": [
    {
     "name": "stdout",
     "output_type": "stream",
     "text": [
      "새로운 아이템 추가\n",
      "[3, 2, 1]\n",
      "[1, 2, 3, 4]\n",
      "[4, 3, 2, 1]\n",
      "['Apple', 'Python', 'apple', 'python']\n"
     ]
    }
   ],
   "source": [
    "# append(), pop()\n",
    "my_list = [1, 2, 3]\n",
    "my_list.append(\"새로운 아이템 추가\")\n",
    "print(my_list.pop())\n",
    "\n",
    "# reverse() 메써드 사용\n",
    "my_list.reverse()\n",
    "print(my_list)\n",
    "\n",
    "# 정렬 sort() 메써드 사용\n",
    "my_list = [ 3, 1, 4, 2 ]\n",
    "my_list.sort() # 오름차순\n",
    "print(my_list)\n",
    "my_list.sort(reverse=True) # 내림차순\n",
    "print(my_list)\n",
    "\n",
    "# 문자열을 정렬한다면?\n",
    "my_list = ['Python', 'Apple', 'python', 'apple']\n",
    "my_list.sort()\n",
    "print(my_list) #오름차순 정렬, 대문자가 소문자보다 앞에 정렬.\n"
   ]
  },
  {
   "cell_type": "markdown",
   "metadata": {},
   "source": [
    "이 외에도 다양한 메써드들이 제공됩니다. 어떤 기능을 하는지 추측해보세요."
   ]
  },
  {
   "cell_type": "code",
   "execution_count": 3,
   "metadata": {},
   "outputs": [
    {
     "data": {
      "text/plain": [
       "[]"
      ]
     },
     "execution_count": 3,
     "metadata": {},
     "output_type": "execute_result"
    }
   ],
   "source": [
    "my_list = [3, 1, 4, 1, 5, 9, 2]\n",
    "\n",
    "my_list.clear()\n",
    "\n",
    "my_list"
   ]
  },
  {
   "cell_type": "code",
   "execution_count": 4,
   "metadata": {},
   "outputs": [
    {
     "data": {
      "text/plain": [
       "4"
      ]
     },
     "execution_count": 4,
     "metadata": {},
     "output_type": "execute_result"
    }
   ],
   "source": [
    "my_list = [\"내가\", \"몇개\", \"몇개\", \"몇개\", \"몇개\", \"있을까?\"]\n",
    "\n",
    "my_list.count(\"몇개\")"
   ]
  },
  {
   "cell_type": "code",
   "execution_count": 7,
   "metadata": {},
   "outputs": [
    {
     "data": {
      "text/plain": [
       "[1, 2, 3, 4, 5, 6, [4, 5, 6]]"
      ]
     },
     "execution_count": 7,
     "metadata": {},
     "output_type": "execute_result"
    }
   ],
   "source": [
    "my_list = [1, 2, 3]\n",
    "list_to_add = [4, 5, 6]\n",
    "\n",
    "my_list.extend(list_to_add) # [1, 2, 3, 4, 5, 6]"
   ]
  },
  {
   "cell_type": "code",
   "execution_count": null,
   "metadata": {},
   "outputs": [],
   "source": [
    "my_list = [\"내가\", \"몇개\", \"몇개\", \"몇개\", \"몇개\", \"있을까?\"]\n",
    "\n",
    "my_list.index(\"있을까?\")"
   ]
  },
  {
   "cell_type": "code",
   "execution_count": null,
   "metadata": {},
   "outputs": [],
   "source": [
    "my_list = [\"내가\", \"몇개\", \"몇개\", \"몇개\", \"몇개\", \"있을까?\"]\n",
    "\n",
    "my_list.remove(\"몇개\")"
   ]
  },
  {
   "cell_type": "code",
   "execution_count": null,
   "metadata": {},
   "outputs": [],
   "source": [
    "my_list = [\"A\", \"B\", \"D\", \"E\"]\n",
    "\n",
    "my_list.insert(2, \"C\")"
   ]
  },
  {
   "cell_type": "markdown",
   "metadata": {},
   "source": [
    "정답은 [여기](https://www.w3schools.com/python/python_ref_list.asp)를 참고하시거나 검색해보세요. 파이썬 자체 도움말은 ```help(list.remove)```와 같이 사용하시면 됩니다."
   ]
  },
  {
   "cell_type": "markdown",
   "metadata": {},
   "source": [
    "### 중첩 리스트 (Nested List)"
   ]
  },
  {
   "cell_type": "markdown",
   "metadata": {},
   "source": [
    "리스트 안에 리스트를 넣을 수도 있습니다."
   ]
  },
  {
   "cell_type": "code",
   "execution_count": null,
   "metadata": {},
   "outputs": [],
   "source": [
    "my_list = [[\"Hello\", 1, 2], 3, 4, [5, \"Apple\"]]"
   ]
  },
  {
   "cell_type": "markdown",
   "metadata": {},
   "source": [
    "가변 컨테이너에 가변 객체를 넣을 때는 주의해야 합니다."
   ]
  },
  {
   "cell_type": "code",
   "execution_count": 11,
   "metadata": {},
   "outputs": [
    {
     "name": "stdout",
     "output_type": "stream",
     "text": [
      "4397398016 4397494912\n",
      "4397391920 4397391920\n"
     ]
    }
   ],
   "source": [
    "my_list = [\"Hello\", 2, 3, 4, 5]\n",
    "new_list = my_list.copy() \n",
    "\n",
    "print(id(new_list), id(my_list)) #주소가 다름\n",
    "# 그러나 원소들은?\n",
    "print(id(new_list[0]), id(my_list[0])) #주소 같음, 만약 my_list안에 list가 들어있었다면? shit"
   ]
  },
  {
   "cell_type": "markdown",
   "metadata": {},
   "source": [
    "이런 일이 발생하는 원인은 리스트가 가지고 있는 아이템들이 객체 자체가 아니라 객체의 이름표 뿐이기 때문입니다.  \n",
    "copy 모듈의 deepcopy()를 이용하면 리스트에 들어있는 객체들을 통째로 복사해서 이런 현상을 방지할 수도 있는데 이 개념은 기초 문법 연습을 조금 더 한 후에 다시 공부하도록 하겠습니다.  "
   ]
  },
  {
   "cell_type": "markdown",
   "metadata": {},
   "source": [
    "### 리스트와 for 루프"
   ]
  },
  {
   "cell_type": "code",
   "execution_count": 21,
   "metadata": {},
   "outputs": [
    {
     "name": "stdout",
     "output_type": "stream",
     "text": [
      "Hello\n",
      "2\n",
      "3\n",
      "4\n",
      "5\n"
     ]
    }
   ],
   "source": [
    "my_list = [\"Hello\", 2, 3, 4, 5]\n",
    "\n",
    "# for문과 리스트\n",
    "for i in my_list:\n",
    "    print(i)"
   ]
  }
 ],
 "metadata": {
  "kernelspec": {
   "display_name": "3.10.13",
   "language": "python",
   "name": "python3"
  },
  "language_info": {
   "codemirror_mode": {
    "name": "ipython",
    "version": 3
   },
   "file_extension": ".py",
   "mimetype": "text/x-python",
   "name": "python",
   "nbconvert_exporter": "python",
   "pygments_lexer": "ipython3",
   "version": "3.10.13"
  },
  "orig_nbformat": 4
 },
 "nbformat": 4,
 "nbformat_minor": 2
}
